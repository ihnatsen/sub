{
 "cells": [
  {
   "cell_type": "markdown",
   "id": "53a44ae0-9868-46bd-a627-76a256fafc6a",
   "metadata": {},
   "source": [
    "<font size=\"10\">Zadanie 1</font>\n",
    "\n",
    "Celem jest zbudowanie modelu, który będzie w stanie poprawnie przewidywać, jaką cyfrę przedstawia obraz, korzystając z maszyny wektorów nośnych (SVM).\n",
    "\n",
    "Wykorzystamy do tego zbiór digits z biblioteki scikit-learn<br>\n",
    "**Cel**: Klasyfikacja cyfr od 0 do 9 na podstawie ich obrazu.\n",
    "\n",
    "**Charakterystyka**:<br>\n",
    "Liczba Prób: 1797 obrazów.<br>\n",
    "Rozdzielczość: Każdy obraz jest w skali szarości i ma wymiary 8x8 pikseli.<br>\n",
    "Cechy: Każdy obraz jest reprezentowany przez macierz 8x8 pikseli, która jest spłaszczana do jednowymiarowego wektora o długości 64 elementów.\n",
    "Etykiety (Target): Etykiety reprezentują cyfry od 0 do 9.\n",
    "\n",
    "\n"
   ]
  },
  {
   "cell_type": "code",
   "id": "67b0c5ce-ae5b-4700-823a-5ea7170c2a7d",
   "metadata": {
    "ExecuteTime": {
     "end_time": "2024-05-08T07:51:15.988041Z",
     "start_time": "2024-05-08T07:51:15.827942Z"
    }
   },
   "source": [
    "#Najpierw żebyśmy wiedzieli z czym mamy do czynienia wyświetlamy przykładowy obraz\n",
    "import matplotlib.pyplot as plt\n",
    "\n",
    "from sklearn import datasets\n",
    "\n",
    "# Pobieramy dane z scikit-leatn\n",
    "digits = datasets.load_digits()\n",
    "\n",
    "# Wywietlamy przykladowy obraz\n",
    "plt.figure(1, figsize=(3, 3))\n",
    "plt.imshow(digits.images[-1], cmap=plt.cm.gray_r, interpolation=\"nearest\")\n",
    "plt.show()"
   ],
   "outputs": [
    {
     "data": {
      "text/plain": [
       "<Figure size 300x300 with 1 Axes>"
      ],
      "image/png": "[encoded data removed]"
     },
     "metadata": {},
     "output_type": "display_data"
    }
   ],
   "execution_count": 3
  },
  {
   "cell_type": "markdown",
   "id": "374462db-a453-4ad3-9ca9-44176e6b3879",
   "metadata": {},
   "source": [
    "<font size=\"5\">Teraz przystępujemy do załadowania zbioru danych i wykorzystania SVM do określania predykcji</font>\n"
   ]
  },
  {
   "cell_type": "code",
   "id": "5193c625-2f70-46bf-bc39-a2f8214d3043",
   "metadata": {
    "ExecuteTime": {
     "end_time": "2024-05-08T07:51:30.103143Z",
     "start_time": "2024-05-08T07:51:29.689256Z"
    }
   },
   "source": [
    "# Importowanie bibliotek\n",
    "from sklearn import datasets\n",
    "from sklearn.model_selection import train_test_split\n",
    "from sklearn.svm import SVC\n",
    "from sklearn.metrics import classification_report, accuracy_score\n",
    "import matplotlib.pyplot as plt\n",
    "\n",
    "# Załadowanie zbioru danych digits\n",
    "digits = datasets.load_digits()\n",
    "X, y = digits.data, digits.target\n",
    "\n",
    "# Wyświetlenie przykładowego obrazu\n",
    "plt.gray()\n",
    "plt.matshow(digits.images[0])\n",
    "plt.show()\n",
    "\n",
    "# Podział zbioru na treningowy i testowy\n",
    "X_train, X_test, y_train, y_test = train_test_split(X, y, test_size=0.3, random_state=42)\n",
    "\n",
    "# Inicjalizacja modelu SVM (kernel='rbf' dla jądra radialnego)\n",
    "model = SVC(kernel='rbf', C=1.0, gamma='scale')\n",
    "\n",
    "# Trenowanie modelu na danych treningowych\n",
    "model.fit(X_train, y_train)\n",
    "\n",
    "# Przewidywanie na zbiorze testowym\n",
    "y_pred = model.predict(X_test)\n",
    "\n",
    "# Ocena modelu\n",
    "accuracy = accuracy_score(y_test, y_pred)\n",
    "print(f'Dokładność modelu: {accuracy:.4f}')\n",
    "print('Raport klasyfikacji:')\n",
    "print(classification_report(y_test, y_pred))"
   ],
   "outputs": [
    {
     "data": {
      "text/plain": [
       "<Figure size 640x480 with 0 Axes>"
      ]
     },
     "metadata": {},
     "output_type": "display_data"
    },
    {
     "data": {
      "text/plain": [
       "<Figure size 480x480 with 1 Axes>"
      ],
      "image/png": "[encoded data removed]"
     },
     "metadata": {},
     "output_type": "display_data"
    },
    {
     "name": "stdout",
     "output_type": "stream",
     "text": [
      "Dokładność modelu: 0.9870\n",
      "Raport klasyfikacji:\n",
      "              precision    recall  f1-score   support\n",
      "\n",
      "           0       1.00      1.00      1.00        53\n",
      "           1       1.00      1.00      1.00        50\n",
      "           2       1.00      1.00      1.00        47\n",
      "           3       0.98      0.98      0.98        54\n",
      "           4       1.00      1.00      1.00        60\n",
      "           5       1.00      0.98      0.99        66\n",
      "           6       0.98      1.00      0.99        53\n",
      "           7       0.98      0.98      0.98        55\n",
      "           8       0.95      0.98      0.97        43\n",
      "           9       0.97      0.95      0.96        59\n",
      "\n",
      "    accuracy                           0.99       540\n",
      "   macro avg       0.99      0.99      0.99       540\n",
      "weighted avg       0.99      0.99      0.99       540\n",
      "\n"
     ]
    }
   ],
   "execution_count": 6
  },
  {
   "cell_type": "markdown",
   "id": "b927f707-d404-4e69-9af9-5bbe56691ef3",
   "metadata": {},
   "source": [
    "<font size=\"5\">Wylosujemy losowe zdjęcie i spróbujemy przewidzieć jaka jest na nim cyfra</font>\n"
   ]
  },
  {
   "cell_type": "code",
   "execution_count": 12,
   "id": "ced95d8c-95f2-4ec4-80bb-334043b0810d",
   "metadata": {},
   "outputs": [
    {
     "data": {
      "text/plain": [
       "<Figure size 640x480 with 0 Axes>"
      ]
     },
     "metadata": {},
     "output_type": "display_data"
    },
    {
     "data": {
      "image/png": "[encoded data removed]",
      "text/plain": [
       "<Figure size 480x480 with 1 Axes>"
      ]
     },
     "metadata": {},
     "output_type": "display_data"
    }
   ],
   "source": [
    "import numpy as np\n",
    "# Wybranie losowego obrazu ze zbioru testowego\n",
    "random_idx = np.random.randint(len(X_test))\n",
    "random_image = X_test[random_idx].reshape(8, 8)\n",
    "\n",
    "# Przewidywanie wartości cyfry na tym obrazie\n",
    "predicted_value = model.predict([X_test[random_idx]])[0]\n",
    "\n",
    "# Wyświetlanie obrazu z przewidywaną wartością\n",
    "plt.gray()\n",
    "plt.matshow(random_image)\n",
    "plt.title(f'Przewidywana cyfra: {predicted_value}')\n",
    "plt.show()"
   ]
  },
  {
   "cell_type": "markdown",
   "id": "6c35a5ec-1e06-4aec-bc5b-be837d62b68f",
   "metadata": {},
   "source": [
    "<font size=\"10\">Zadanie 2</font> <br>\n",
    "Podobnym zadaniem, również na obrazach, ale bardziej wymagającym niż klasyfikacja cyfr, jest klasyfikacja odręcznych rysunków z zestawu danych MNIST Fashion. <br> Jest to popularny zestaw danych, który zawiera obrazy odzieży i można go wykorzystać do zbudowania klasyfikatora SVM.\n",
    "\n",
    "**Nazwa**: Fashion MNIST \n",
    "\n",
    "**Źródło**: Kolekcja zebrana przez Zalando Research, dostępna w bibliotece tensorflow i keras.\n",
    "\n",
    "**Cel**: Klasyfikacja rysunków odzieży na 10 kategorii. <br>\n",
    "**Charakterystyka**: <br>\n",
    "**Liczba Prób**: 70,000 obrazów. <br>\n",
    "**Rozdzielczość**: Każdy obraz ma wymiary 28x28 pikseli. <br>\n",
    "**Cechy**: Każdy obraz reprezentowany przez jednowymiarowy wektor o długości 784 (28*28) elementów. <br>\n",
    "**Etykiety**: 10 klas produktów modowych <br>\n",
    "\n",
    "\n"
   ]
  },
  {
   "cell_type": "code",
   "execution_count": null,
   "id": "f7541656-1a13-4f5a-9f39-8acc8b736349",
   "metadata": {},
   "outputs": [],
   "source": [
    "#Najpierw zainstalujmy tensorflow aby zaciągnąć z niego dane"
   ]
  },
  {
   "cell_type": "code",
   "id": "4b728144-dcae-4d7f-a141-4ca137d4a980",
   "metadata": {
    "ExecuteTime": {
     "end_time": "2024-05-08T08:11:45.361885Z",
     "start_time": "2024-05-08T08:11:41.539060Z"
    }
   },
   "source": "!pip install tensorflow",
   "outputs": [
    {
     "name": "stdout",
     "output_type": "stream",
     "text": [
      "Requirement already satisfied: tensorflow in c:\\users\\acer\\appdata\\local\\jetbrains\\pycharmce2024.1\\demo\\pycharmlearningproject\\venv\\lib\\site-packages (2.16.1)\n",
      "Requirement already satisfied: tensorflow-intel==2.16.1 in c:\\users\\acer\\appdata\\local\\jetbrains\\pycharmce2024.1\\demo\\pycharmlearningproject\\venv\\lib\\site-packages (from tensorflow) (2.16.1)\n",
      "Requirement already satisfied: absl-py>=1.0.0 in c:\\users\\acer\\appdata\\local\\jetbrains\\pycharmce2024.1\\demo\\pycharmlearningproject\\venv\\lib\\site-packages (from tensorflow-intel==2.16.1->tensorflow) (2.1.0)\n",
      "Requirement already satisfied: astunparse>=1.6.0 in c:\\users\\acer\\appdata\\local\\jetbrains\\pycharmce2024.1\\demo\\pycharmlearningproject\\venv\\lib\\site-packages (from tensorflow-intel==2.16.1->tensorflow) (1.6.3)\n",
      "Requirement already satisfied: flatbuffers>=23.5.26 in c:\\users\\acer\\appdata\\local\\jetbrains\\pycharmce2024.1\\demo\\pycharmlearningproject\\venv\\lib\\site-packages (from tensorflow-intel==2.16.1->tensorflow) (24.3.25)\n",
      "Requirement already satisfied: gast!=0.5.0,!=0.5.1,!=0.5.2,>=0.2.1 in c:\\users\\acer\\appdata\\local\\jetbrains\\pycharmce2024.1\\demo\\pycharmlearningproject\\venv\\lib\\site-packages (from tensorflow-intel==2.16.1->tensorflow) (0.5.4)\n",
      "Requirement already satisfied: google-pasta>=0.1.1 in c:\\users\\acer\\appdata\\local\\jetbrains\\pycharmce2024.1\\demo\\pycharmlearningproject\\venv\\lib\\site-packages (from tensorflow-intel==2.16.1->tensorflow) (0.2.0)\n",
      "Requirement already satisfied: h5py>=3.10.0 in c:\\users\\acer\\appdata\\local\\jetbrains\\pycharmce2024.1\\demo\\pycharmlearningproject\\venv\\lib\\site-packages (from tensorflow-intel==2.16.1->tensorflow) (3.11.0)\n",
      "Requirement already satisfied: libclang>=13.0.0 in c:\\users\\acer\\appdata\\local\\jetbrains\\pycharmce2024.1\\demo\\pycharmlearningproject\\venv\\lib\\site-packages (from tensorflow-intel==2.16.1->tensorflow) (18.1.1)\n",
      "Requirement already satisfied: ml-dtypes~=0.3.1 in c:\\users\\acer\\appdata\\local\\jetbrains\\pycharmce2024.1\\demo\\pycharmlearningproject\\venv\\lib\\site-packages (from tensorflow-intel==2.16.1->tensorflow) (0.3.2)\n",
      "Requirement already satisfied: opt-einsum>=2.3.2 in c:\\users\\acer\\appdata\\local\\jetbrains\\pycharmce2024.1\\demo\\pycharmlearningproject\\venv\\lib\\site-packages (from tensorflow-intel==2.16.1->tensorflow) (3.3.0)\n",
      "Requirement already satisfied: packaging in c:\\users\\acer\\appdata\\local\\jetbrains\\pycharmce2024.1\\demo\\pycharmlearningproject\\venv\\lib\\site-packages (from tensorflow-intel==2.16.1->tensorflow) (24.0)\n",
      "Requirement already satisfied: protobuf!=4.21.0,!=4.21.1,!=4.21.2,!=4.21.3,!=4.21.4,!=4.21.5,<5.0.0dev,>=3.20.3 in c:\\users\\acer\\appdata\\local\\jetbrains\\pycharmce2024.1\\demo\\pycharmlearningproject\\venv\\lib\\site-packages (from tensorflow-intel==2.16.1->tensorflow) (4.25.3)\n",
      "Requirement already satisfied: requests<3,>=2.21.0 in c:\\users\\acer\\appdata\\local\\jetbrains\\pycharmce2024.1\\demo\\pycharmlearningproject\\venv\\lib\\site-packages (from tensorflow-intel==2.16.1->tensorflow) (2.31.0)\n",
      "Requirement already satisfied: setuptools in c:\\users\\acer\\appdata\\local\\jetbrains\\pycharmce2024.1\\demo\\pycharmlearningproject\\venv\\lib\\site-packages (from tensorflow-intel==2.16.1->tensorflow) (69.5.1)\n",
      "Requirement already satisfied: six>=1.12.0 in c:\\users\\acer\\appdata\\local\\jetbrains\\pycharmce2024.1\\demo\\pycharmlearningproject\\venv\\lib\\site-packages (from tensorflow-intel==2.16.1->tensorflow) (1.16.0)\n",
      "Requirement already satisfied: termcolor>=1.1.0 in c:\\users\\acer\\appdata\\local\\jetbrains\\pycharmce2024.1\\demo\\pycharmlearningproject\\venv\\lib\\site-packages (from tensorflow-intel==2.16.1->tensorflow) (2.4.0)\n",
      "Requirement already satisfied: typing-extensions>=3.6.6 in c:\\users\\acer\\appdata\\local\\jetbrains\\pycharmce2024.1\\demo\\pycharmlearningproject\\venv\\lib\\site-packages (from tensorflow-intel==2.16.1->tensorflow) (4.11.0)\n",
      "Requirement already satisfied: wrapt>=1.11.0 in c:\\users\\acer\\appdata\\local\\jetbrains\\pycharmce2024.1\\demo\\pycharmlearningproject\\venv\\lib\\site-packages (from tensorflow-intel==2.16.1->tensorflow) (1.16.0)\n",
      "Requirement already satisfied: grpcio<2.0,>=1.24.3 in c:\\users\\acer\\appdata\\local\\jetbrains\\pycharmce2024.1\\demo\\pycharmlearningproject\\venv\\lib\\site-packages (from tensorflow-intel==2.16.1->tensorflow) (1.63.0)\n",
      "Requirement already satisfied: tensorboard<2.17,>=2.16 in c:\\users\\acer\\appdata\\local\\jetbrains\\pycharmce2024.1\\demo\\pycharmlearningproject\\venv\\lib\\site-packages (from tensorflow-intel==2.16.1->tensorflow) (2.16.2)\n",
      "Requirement already satisfied: keras>=3.0.0 in c:\\users\\acer\\appdata\\local\\jetbrains\\pycharmce2024.1\\demo\\pycharmlearningproject\\venv\\lib\\site-packages (from tensorflow-intel==2.16.1->tensorflow) (3.3.3)\n",
      "Requirement already satisfied: numpy<2.0.0,>=1.26.0 in c:\\users\\acer\\appdata\\local\\jetbrains\\pycharmce2024.1\\demo\\pycharmlearningproject\\venv\\lib\\site-packages (from tensorflow-intel==2.16.1->tensorflow) (1.26.4)\n",
      "Requirement already satisfied: wheel<1.0,>=0.23.0 in c:\\users\\acer\\appdata\\local\\jetbrains\\pycharmce2024.1\\demo\\pycharmlearningproject\\venv\\lib\\site-packages (from astunparse>=1.6.0->tensorflow-intel==2.16.1->tensorflow) (0.43.0)\n",
      "Requirement already satisfied: rich in c:\\users\\acer\\appdata\\local\\jetbrains\\pycharmce2024.1\\demo\\pycharmlearningproject\\venv\\lib\\site-packages (from keras>=3.0.0->tensorflow-intel==2.16.1->tensorflow) (13.7.1)\n",
      "Requirement already satisfied: namex in c:\\users\\acer\\appdata\\local\\jetbrains\\pycharmce2024.1\\demo\\pycharmlearningproject\\venv\\lib\\site-packages (from keras>=3.0.0->tensorflow-intel==2.16.1->tensorflow) (0.0.8)\n",
      "Requirement already satisfied: optree in c:\\users\\acer\\appdata\\local\\jetbrains\\pycharmce2024.1\\demo\\pycharmlearningproject\\venv\\lib\\site-packages (from keras>=3.0.0->tensorflow-intel==2.16.1->tensorflow) (0.11.0)\n",
      "Requirement already satisfied: charset-normalizer<4,>=2 in c:\\users\\acer\\appdata\\local\\jetbrains\\pycharmce2024.1\\demo\\pycharmlearningproject\\venv\\lib\\site-packages (from requests<3,>=2.21.0->tensorflow-intel==2.16.1->tensorflow) (3.3.2)\n",
      "Requirement already satisfied: idna<4,>=2.5 in c:\\users\\acer\\appdata\\local\\jetbrains\\pycharmce2024.1\\demo\\pycharmlearningproject\\venv\\lib\\site-packages (from requests<3,>=2.21.0->tensorflow-intel==2.16.1->tensorflow) (3.7)\n",
      "Requirement already satisfied: urllib3<3,>=1.21.1 in c:\\users\\acer\\appdata\\local\\jetbrains\\pycharmce2024.1\\demo\\pycharmlearningproject\\venv\\lib\\site-packages (from requests<3,>=2.21.0->tensorflow-intel==2.16.1->tensorflow) (2.2.1)\n",
      "Requirement already satisfied: certifi>=2017.4.17 in c:\\users\\acer\\appdata\\local\\jetbrains\\pycharmce2024.1\\demo\\pycharmlearningproject\\venv\\lib\\site-packages (from requests<3,>=2.21.0->tensorflow-intel==2.16.1->tensorflow) (2024.2.2)\n",
      "Requirement already satisfied: markdown>=2.6.8 in c:\\users\\acer\\appdata\\local\\jetbrains\\pycharmce2024.1\\demo\\pycharmlearningproject\\venv\\lib\\site-packages (from tensorboard<2.17,>=2.16->tensorflow-intel==2.16.1->tensorflow) (3.6)\n",
      "Requirement already satisfied: tensorboard-data-server<0.8.0,>=0.7.0 in c:\\users\\acer\\appdata\\local\\jetbrains\\pycharmce2024.1\\demo\\pycharmlearningproject\\venv\\lib\\site-packages (from tensorboard<2.17,>=2.16->tensorflow-intel==2.16.1->tensorflow) (0.7.2)\n",
      "Requirement already satisfied: werkzeug>=1.0.1 in c:\\users\\acer\\appdata\\local\\jetbrains\\pycharmce2024.1\\demo\\pycharmlearningproject\\venv\\lib\\site-packages (from tensorboard<2.17,>=2.16->tensorflow-intel==2.16.1->tensorflow) (3.0.3)\n",
      "Requirement already satisfied: MarkupSafe>=2.1.1 in c:\\users\\acer\\appdata\\local\\jetbrains\\pycharmce2024.1\\demo\\pycharmlearningproject\\venv\\lib\\site-packages (from werkzeug>=1.0.1->tensorboard<2.17,>=2.16->tensorflow-intel==2.16.1->tensorflow) (2.1.5)\n",
      "Requirement already satisfied: markdown-it-py>=2.2.0 in c:\\users\\acer\\appdata\\local\\jetbrains\\pycharmce2024.1\\demo\\pycharmlearningproject\\venv\\lib\\site-packages (from rich->keras>=3.0.0->tensorflow-intel==2.16.1->tensorflow) (3.0.0)\n",
      "Requirement already satisfied: pygments<3.0.0,>=2.13.0 in c:\\users\\acer\\appdata\\local\\jetbrains\\pycharmce2024.1\\demo\\pycharmlearningproject\\venv\\lib\\site-packages (from rich->keras>=3.0.0->tensorflow-intel==2.16.1->tensorflow) (2.18.0)\n",
      "Requirement already satisfied: mdurl~=0.1 in c:\\users\\acer\\appdata\\local\\jetbrains\\pycharmce2024.1\\demo\\pycharmlearningproject\\venv\\lib\\site-packages (from markdown-it-py>=2.2.0->rich->keras>=3.0.0->tensorflow-intel==2.16.1->tensorflow) (0.1.2)\n"
     ]
    }
   ],
   "execution_count": 20
  },
  {
   "cell_type": "code",
   "id": "04ef2526-2172-4efb-9731-4ff9ac7c394c",
   "metadata": {
    "ExecuteTime": {
     "end_time": "2024-05-08T08:10:16.696562Z",
     "start_time": "2024-05-08T08:10:16.599726Z"
    }
   },
   "source": [
    "# Importowanie bibliotek\n",
    "from sklearn import svm\n",
    "from sklearn.model_selection import train_test_split\n",
    "from sklearn.metrics import classification_report, accuracy_score\n",
    "import matplotlib.pyplot as plt\n",
    "import numpy as np\n",
    "from tensorflow.keras.datasets import fashion_mnist\n",
    "\n",
    "# Załadowanie zbioru danych Fashion MNIST\n",
    "(X_train_full, y_train_full), (X_test, y_test) = fashion_mnist.load_data()\n",
    "\n",
    "# Normalizacja danych (skalowanie pikseli do zakresu [0, 1])\n",
    "# Wartości pikseli obrazów w skali szarości mają zakres od 0 do 255, gdzie: 0 to czarny a 255 to biały, stąd dzielimy na 255\n",
    "X_train_full = X_train_full / 255.0\n",
    "X_test = X_test / 255.0\n",
    "\n",
    "# Spłaszczanie obrazów z 28x28 do jednowymiarowego wektora\n",
    "X_train = X_train_full.reshape(-1, 784)\n",
    "X_test = X_test.reshape(-1, 784)\n",
    "\n",
    "# Podział danych treningowych na treningowy i walidacyjny\n",
    "X_train, X_val, y_train, y_val = train_test_split(X_train, y_train_full, test_size=0.2, random_state=42)\n",
    "\n",
    "# Tworzenie modelu SVM z jądrem RBF\n",
    "model = svm.SVC(kernel='rbf', C=1.0, gamma='scale')\n",
    "\n",
    "# Trenowanie modelu na danych treningowych\n",
    "model.fit(X_train, y_train)\n",
    "\n",
    "# Przewidywanie na zbiorze walidacyjnym\n",
    "y_pred = model.predict(X_val)\n",
    "\n",
    "# Ocena modelu\n",
    "accuracy = accuracy_score(y_val, y_pred)\n",
    "print(f'Dokładność modelu na zbiorze walidacyjnym: {accuracy:.4f}')\n",
    "print('Raport klasyfikacji:')\n",
    "print(classification_report(y_val, y_pred))\n"
   ],
   "outputs": [
    {
     "ename": "ModuleNotFoundError",
     "evalue": "No module named 'distutils'",
     "output_type": "error",
     "traceback": [
      "\u001B[1;31m---------------------------------------------------------------------------\u001B[0m",
      "\u001B[1;31mModuleNotFoundError\u001B[0m                       Traceback (most recent call last)",
      "Cell \u001B[1;32mIn[19], line 7\u001B[0m\n\u001B[0;32m      5\u001B[0m \u001B[38;5;28;01mimport\u001B[39;00m \u001B[38;5;21;01mmatplotlib\u001B[39;00m\u001B[38;5;21;01m.\u001B[39;00m\u001B[38;5;21;01mpyplot\u001B[39;00m \u001B[38;5;28;01mas\u001B[39;00m \u001B[38;5;21;01mplt\u001B[39;00m\n\u001B[0;32m      6\u001B[0m \u001B[38;5;28;01mimport\u001B[39;00m \u001B[38;5;21;01mnumpy\u001B[39;00m \u001B[38;5;28;01mas\u001B[39;00m \u001B[38;5;21;01mnp\u001B[39;00m\n\u001B[1;32m----> 7\u001B[0m \u001B[38;5;28;01mfrom\u001B[39;00m \u001B[38;5;21;01mtensorflow\u001B[39;00m\u001B[38;5;21;01m.\u001B[39;00m\u001B[38;5;21;01mkeras\u001B[39;00m\u001B[38;5;21;01m.\u001B[39;00m\u001B[38;5;21;01mdatasets\u001B[39;00m \u001B[38;5;28;01mimport\u001B[39;00m fashion_mnist\n\u001B[0;32m      9\u001B[0m \u001B[38;5;66;03m# Załadowanie zbioru danych Fashion MNIST\u001B[39;00m\n\u001B[0;32m     10\u001B[0m (X_train_full, y_train_full), (X_test, y_test) \u001B[38;5;241m=\u001B[39m fashion_mnist\u001B[38;5;241m.\u001B[39mload_data()\n",
      "File \u001B[1;32m~\\AppData\\Local\\JetBrains\\PyCharmCE2024.1\\demo\\PyCharmLearningProject\\venv\\Lib\\site-packages\\tensorflow\\__init__.py:30\u001B[0m\n\u001B[0;32m     15\u001B[0m \u001B[38;5;124;03m\"\"\"\u001B[39;00m\n\u001B[0;32m     16\u001B[0m \u001B[38;5;124;03mTop-level module of TensorFlow. By convention, we refer to this module as\u001B[39;00m\n\u001B[0;32m     17\u001B[0m \u001B[38;5;124;03m`tf` instead of `tensorflow`, following the common practice of importing\u001B[39;00m\n\u001B[1;32m   (...)\u001B[0m\n\u001B[0;32m     26\u001B[0m \u001B[38;5;124;03mthis file with a file generated from [`api_template.__init__.py`](https://www.github.com/tensorflow/tensorflow/blob/master/tensorflow/api_template.__init__.py)\u001B[39;00m\n\u001B[0;32m     27\u001B[0m \u001B[38;5;124;03m\"\"\"\u001B[39;00m\n\u001B[0;32m     28\u001B[0m \u001B[38;5;66;03m# pylint: disable=g-bad-import-order,protected-access,g-import-not-at-top\u001B[39;00m\n\u001B[1;32m---> 30\u001B[0m \u001B[38;5;28;01mimport\u001B[39;00m \u001B[38;5;21;01mdistutils\u001B[39;00m \u001B[38;5;28;01mas\u001B[39;00m \u001B[38;5;21;01m_distutils\u001B[39;00m\n\u001B[0;32m     31\u001B[0m \u001B[38;5;28;01mimport\u001B[39;00m \u001B[38;5;21;01mimportlib\u001B[39;00m\n\u001B[0;32m     32\u001B[0m \u001B[38;5;28;01mimport\u001B[39;00m \u001B[38;5;21;01minspect\u001B[39;00m \u001B[38;5;28;01mas\u001B[39;00m \u001B[38;5;21;01m_inspect\u001B[39;00m\n",
      "\u001B[1;31mModuleNotFoundError\u001B[0m: No module named 'distutils'"
     ]
    }
   ],
   "execution_count": 19
  },
  {
   "cell_type": "code",
   "execution_count": 24,
   "id": "ea119f82-2401-44b9-b35c-3ebfb2e78358",
   "metadata": {},
   "outputs": [
    {
     "data": {
      "text/plain": [
       "<Figure size 640x480 with 0 Axes>"
      ]
     },
     "metadata": {},
     "output_type": "display_data"
    },
    {
     "data": {
      "image/png": "[encoded data removed]",
      "text/plain": [
       "<Figure size 480x480 with 1 Axes>"
      ]
     },
     "metadata": {},
     "output_type": "display_data"
    }
   ],
   "source": [
    "# Wybranie losowego obrazu ze zbioru testowego\n",
    "random_idx = np.random.randint(len(X_test))\n",
    "random_image = X_test[random_idx].reshape(28, 28)\n",
    "\n",
    "# Przewidywanie wartości klasy na tym obrazie\n",
    "predicted_value = model.predict([X_test[random_idx].ravel()])[0]\n",
    "\n",
    "# Lista nazw kategorii\n",
    "class_names = ['T-shirt/top', 'Trouser', 'Pullover', 'Dress', 'Coat', 'Sandal', 'Shirt', 'Sneaker', 'Bag', 'Ankle boot']\n",
    "\n",
    "# Wyświetlanie obrazu z przewidywaną wartością\n",
    "plt.gray()\n",
    "plt.matshow(random_image)\n",
    "plt.title(f'Przewidywana klasa: {class_names[predicted_value]}')\n",
    "plt.show()"
   ]
  },
  {
   "cell_type": "markdown",
   "id": "6fc653c6-fb72-46bc-b7a2-d14ae753543c",
   "metadata": {},
   "source": [
    "<font size=\"10\">Zadanie 3</font> <br>\n",
    "Podobnym zadaniem, również na obrazach, ale bardziej wymagającym niż klasyfikacja cyfr, jest klasyfikacja odręcznych rysunków z zestawu danych MNIST Fashion. <br> Jest to popularny zestaw danych, który zawiera obrazy odzieży i można go wykorzystać do zbudowania klasyfikatora SVM.\n",
    "\n",
    "**Nazwa**: MNIST\n",
    "\n",
    "**Źródło**: Kolekcja zebrana przez Zalando Research, dostępna w bibliotece tensorflow i keras.\n",
    "\n",
    "**Cel**: Klasyfikacja rysunków odzieży na 10 kategorii. <br>\n",
    "**Charakterystyka**: <br>\n",
    "**Rozdzielczość**: Każdy obraz ma 28x28 pikseli. <br>\n",
    "**Cechy**: Skala szarości (1 kanał). <br>\n",
    "**Etykiety**: 10 klas (cyfry 0-9). <br>\n",
    "\n",
    "\n",
    "Zbiór Danych \"MNIST\" - Klasyfikacja Ręcznie Pisanych Cyfr"
   ]
  },
  {
   "cell_type": "code",
   "execution_count": 1,
   "id": "deaf4a6c-5192-42ed-9e01-90002ec85d8c",
   "metadata": {},
   "outputs": [],
   "source": [
    "# Importowanie bibliotek\n",
    "from sklearn import svm\n",
    "from sklearn.model_selection import train_test_split\n",
    "from sklearn.metrics import classification_report, accuracy_score\n",
    "import matplotlib.pyplot as plt\n",
    "import numpy as np\n",
    "from tensorflow.keras.datasets import fashion_mnist\n",
    "from tensorflow.keras.datasets import mnist\n",
    "\n",
    "## Załadowanie zbioru danych MNIST\n",
    "\n",
    "\n",
    "## Normalizacja danych (skalowanie pikseli do zakresu [0, 1]) trzeba będzie dzielić na 255\n",
    "\n",
    "\n",
    "## Spłaszczanie obrazów z 28x28 do jednowymiarowego wektora (784 cechy)\n",
    "\n",
    "\n",
    "## Podział danych treningowych na treningowy i walidacyjny\n",
    "\n",
    "## Tworzenie modelu SVM z jądrem RBF\n",
    "\n",
    "## Trenowanie modelu na danych treningowych\n",
    "\n",
    "## Przewidywanie na zbiorze walidacyjnym\n",
    "\n",
    "## Ocena modelu\n"
   ]
  },
  {
   "cell_type": "code",
   "execution_count": 33,
   "id": "30a2af8c-4bb2-4dbf-b05c-c405f5f15700",
   "metadata": {},
   "outputs": [
    {
     "data": {
      "text/plain": [
       "<Figure size 640x480 with 0 Axes>"
      ]
     },
     "metadata": {},
     "output_type": "display_data"
    },
    {
     "data": {
      "image/png": "[encoded data removed]",
      "text/plain": [
       "<Figure size 480x480 with 1 Axes>"
      ]
     },
     "metadata": {},
     "output_type": "display_data"
    }
   ],
   "source": [
    "## Wybranie losowego obrazu ze zbioru testowego\n",
    "random_idx = np.random.randint(len(X_test))\n",
    "random_image = X_test[random_idx].reshape(28, 28)\n",
    "\n",
    "## Przewidywanie wartości klasy na tym obrazie\n",
    "\n",
    "## Wyświetlanie obrazu z przewidywaną wartością\n"
   ]
  },
  {
   "cell_type": "code",
   "execution_count": null,
   "id": "9b8d2d95-b63e-4223-b987-a87407e65641",
   "metadata": {},
   "outputs": [],
   "source": []
  },
  {
   "cell_type": "code",
   "execution_count": null,
   "id": "b3071c85-1505-4108-939e-0b2513fe551d",
   "metadata": {},
   "outputs": [],
   "source": []
  }
 ],
 "metadata": {
  "kernelspec": {
   "display_name": "Python 3 (ipykernel)",
   "language": "python",
   "name": "python3"
  },
  "language_info": {
   "codemirror_mode": {
    "name": "ipython",
    "version": 3
   },
   "file_extension": ".py",
   "mimetype": "text/x-python",
   "name": "python",
   "nbconvert_exporter": "python",
   "pygments_lexer": "ipython3",
   "version": "3.11.7"
  }
 },
 "nbformat": 4,
 "nbformat_minor": 5
}
