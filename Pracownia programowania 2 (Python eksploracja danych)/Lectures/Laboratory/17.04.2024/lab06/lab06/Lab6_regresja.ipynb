{
 "cells": [
  {
   "cell_type": "markdown",
   "id": "e071d282-6aaa-4179-a710-f70482007d5f",
   "metadata": {},
   "source": [
    "<font size=\"10\">Zadanie 1</font>\n",
    "\n",
    "\n",
    "**Cel**\n",
    "Użyj regresji liniowej do przewidzenia ceny domu na podstawie jego metrażu.\r",
    "\r\n"
   ]
  },
  {
   "cell_type": "markdown",
   "id": "793fb4b9-4e52-4caf-b2aa-c92604882a32",
   "metadata": {},
   "source": [
    "- <font size=\"6\">Krok 1: Importowanie bibliotek</font>\n",
    "\n",
    "\n",
    "Potrzebne będą Ci biblioteki numpy do operacji na danych, matplotlib do rysowania wykresów oraz scikit-learn do wykonania regresji liniowej."
   ]
  },
  {
   "cell_type": "code",
   "execution_count": 6,
   "id": "8a79eda4-c152-4e80-8f04-773cbab6af01",
   "metadata": {},
   "outputs": [],
   "source": [
    "#zaimportuj biliotekę numpy\n",
    "#zaimportuj bibliotekę matplotlib\n",
    "#pozostałe biblioteki dodaję poniżej\n",
    "from sklearn.model_selection import train_test_split\n",
    "from sklearn.linear_model import LinearRegression"
   ]
  },
  {
   "cell_type": "markdown",
   "id": "c77b9ffc-62f9-4dc9-88b6-5da9d0c0fdc1",
   "metadata": {},
   "source": [
    "- <font size=\"6\">Krok 2: Przygotowanie danych</font>\n",
    "\n",
    "Dane już przygotowałem wystarczy uruchomić zestaw danych, proszę znaleźć do czego potrzebujemy takiej funkcji jak reshape.\n",
    "Z zajęć pamiętamy o znaczeniu poszczególnych elementów:\n",
    "\n",
    "__X__ : Dane wejściowe (cechy, niezależne zmienne), \n",
    "\n",
    "__y__ : Dane wyjściowe (zmienna zależna, etykieta, odpowiedź),\n"
   ]
  },
  {
   "cell_type": "code",
   "execution_count": 15,
   "id": "6d3a9513-794d-48d0-b267-9a5d5769c47e",
   "metadata": {},
   "outputs": [],
   "source": [
    "# Rozszerzone metraże i ceny domów\n",
    "X = np.array([\n",
    "    50, 60, 70, 80, 90, 100, 110, 120, 130, 140, 150,  \n",
    "    160, 170, 180, 190, 200, 210, 220, 230, 240, 250,  \n",
    "    260, 270, 280, 290, 300, 310, 320, 330, 340, 350   \n",
    "]).reshape(-1, 1)\n",
    "\n",
    "y = np.array([\n",
    "    10, 20, 380, 400, 430, 450, 480, 500, 520, 540, 560,  \n",
    "    580, 600, 620, 640, 660, 680, 700, 720, 740, 760,       \n",
    "    780, 800, 820, 840, 860, 880, 900, 920, 1200, 1300       \n",
    "])"
   ]
  },
  {
   "cell_type": "markdown",
   "id": "f199f57a-1833-4528-aa5d-fca12bce4780",
   "metadata": {},
   "source": [
    "- <font size=\"6\">Krok 3: Podzielmy dane na zestaw treningowy i testowy</font>\n",
    "\n",
    "Ten krok również jest zrobiony"
   ]
  },
  {
   "cell_type": "code",
   "execution_count": 44,
   "id": "9be045c7-4ed6-4a65-82e6-e3b9083fd279",
   "metadata": {},
   "outputs": [],
   "source": [
    "X_train, X_test, y_train, y_test = train_test_split(X, y, test_size=0.2, random_state=42)"
   ]
  },
  {
   "cell_type": "markdown",
   "id": "2608a3f8-88f2-4283-8762-e9df335f27d9",
   "metadata": {},
   "source": [
    "funkcja __train_test_split__ z biblioteki __scikit-learn__, służy do podziału danych na zestawy treningowe i testowe. Oto szczegółowe wyjaśnienie każdego elementu:\n",
    "\n",
    "* X_train: Jest to zbiór danych wejściowych przeznaczonych do treningu modelu. Zawiera pewien procent (w tym przypadku 80%) całkowitych danych wejściowych X, które zostały wybrane losowo. Te dane będą używane przez algorytm uczenia maszynowego do nauki.\n",
    " \n",
    "* X_test: To zbiór danych wejściowych używany do testowania modelu. Stanowi pozostały procent (w tym przypadku 20%) całkowitych danych wejściowych X, który nie został wykorzystany w treningu (X_train). Używa się go do oceny, jak dobrze model radzi sobie z nowymi, niewidzianymi danymi.\n",
    "\n",
    "* y_train: Jest to zbiór danych wyjściowych (etykiet lub odpowiedzi), odpowiadających X_train, używanych w procesie treningu. Dla każdego elementu w X_train istnieje odpowiadający mu element w y_train, który model próbuje przewidzieć.\n",
    "\n",
    "* y_test: To zbiór danych wyjściowych odpowiadających X_test, używany do oceny skuteczności modelu. Podobnie jak w przypadku y_train, dla każdego elementu w X_test istnieje odpowiadający mu element w y_test, który służy jako \"prawdziwa\" odpowiedź przy testowaniu dokładności przewidywań modelu..delu."
   ]
  },
  {
   "cell_type": "markdown",
   "id": "d0cf7f39-3727-4c14-b68a-fe3d0ad14b70",
   "metadata": {},
   "source": [
    "- <font size=\"6\">Krok 4: Trenowanie modelu regresji liniowej</font>\n",
    "\n",
    "\n",
    "Tworzymy i trenujemy model regresji liniowej na danych treningowych, ten krok również jest przygotowany."
   ]
  },
  {
   "cell_type": "code",
   "execution_count": 45,
   "id": "a43f6ff6-aa7b-4a5c-8b1e-a4875bdd2914",
   "metadata": {},
   "outputs": [
    {
     "data": {
      "text/html": [
       "<style>#sk-container-id-7 {color: black;background-color: white;}#sk-container-id-7 pre{padding: 0;}#sk-container-id-7 div.sk-toggleable {background-color: white;}#sk-container-id-7 label.sk-toggleable__label {cursor: pointer;display: block;width: 100%;margin-bottom: 0;padding: 0.3em;box-sizing: border-box;text-align: center;}#sk-container-id-7 label.sk-toggleable__label-arrow:before {content: \"▸\";float: left;margin-right: 0.25em;color: #696969;}#sk-container-id-7 label.sk-toggleable__label-arrow:hover:before {color: black;}#sk-container-id-7 div.sk-estimator:hover label.sk-toggleable__label-arrow:before {color: black;}#sk-container-id-7 div.sk-toggleable__content {max-height: 0;max-width: 0;overflow: hidden;text-align: left;background-color: #f0f8ff;}#sk-container-id-7 div.sk-toggleable__content pre {margin: 0.2em;color: black;border-radius: 0.25em;background-color: #f0f8ff;}#sk-container-id-7 input.sk-toggleable__control:checked~div.sk-toggleable__content {max-height: 200px;max-width: 100%;overflow: auto;}#sk-container-id-7 input.sk-toggleable__control:checked~label.sk-toggleable__label-arrow:before {content: \"▾\";}#sk-container-id-7 div.sk-estimator input.sk-toggleable__control:checked~label.sk-toggleable__label {background-color: #d4ebff;}#sk-container-id-7 div.sk-label input.sk-toggleable__control:checked~label.sk-toggleable__label {background-color: #d4ebff;}#sk-container-id-7 input.sk-hidden--visually {border: 0;clip: rect(1px 1px 1px 1px);clip: rect(1px, 1px, 1px, 1px);height: 1px;margin: -1px;overflow: hidden;padding: 0;position: absolute;width: 1px;}#sk-container-id-7 div.sk-estimator {font-family: monospace;background-color: #f0f8ff;border: 1px dotted black;border-radius: 0.25em;box-sizing: border-box;margin-bottom: 0.5em;}#sk-container-id-7 div.sk-estimator:hover {background-color: #d4ebff;}#sk-container-id-7 div.sk-parallel-item::after {content: \"\";width: 100%;border-bottom: 1px solid gray;flex-grow: 1;}#sk-container-id-7 div.sk-label:hover label.sk-toggleable__label {background-color: #d4ebff;}#sk-container-id-7 div.sk-serial::before {content: \"\";position: absolute;border-left: 1px solid gray;box-sizing: border-box;top: 0;bottom: 0;left: 50%;z-index: 0;}#sk-container-id-7 div.sk-serial {display: flex;flex-direction: column;align-items: center;background-color: white;padding-right: 0.2em;padding-left: 0.2em;position: relative;}#sk-container-id-7 div.sk-item {position: relative;z-index: 1;}#sk-container-id-7 div.sk-parallel {display: flex;align-items: stretch;justify-content: center;background-color: white;position: relative;}#sk-container-id-7 div.sk-item::before, #sk-container-id-7 div.sk-parallel-item::before {content: \"\";position: absolute;border-left: 1px solid gray;box-sizing: border-box;top: 0;bottom: 0;left: 50%;z-index: -1;}#sk-container-id-7 div.sk-parallel-item {display: flex;flex-direction: column;z-index: 1;position: relative;background-color: white;}#sk-container-id-7 div.sk-parallel-item:first-child::after {align-self: flex-end;width: 50%;}#sk-container-id-7 div.sk-parallel-item:last-child::after {align-self: flex-start;width: 50%;}#sk-container-id-7 div.sk-parallel-item:only-child::after {width: 0;}#sk-container-id-7 div.sk-dashed-wrapped {border: 1px dashed gray;margin: 0 0.4em 0.5em 0.4em;box-sizing: border-box;padding-bottom: 0.4em;background-color: white;}#sk-container-id-7 div.sk-label label {font-family: monospace;font-weight: bold;display: inline-block;line-height: 1.2em;}#sk-container-id-7 div.sk-label-container {text-align: center;}#sk-container-id-7 div.sk-container {/* jupyter's `normalize.less` sets `[hidden] { display: none; }` but bootstrap.min.css set `[hidden] { display: none !important; }` so we also need the `!important` here to be able to override the default hidden behavior on the sphinx rendered scikit-learn.org. See: https://github.com/scikit-learn/scikit-learn/issues/21755 */display: inline-block !important;position: relative;}#sk-container-id-7 div.sk-text-repr-fallback {display: none;}</style><div id=\"sk-container-id-7\" class=\"sk-top-container\"><div class=\"sk-text-repr-fallback\"><pre>LinearRegression()</pre><b>In a Jupyter environment, please rerun this cell to show the HTML representation or trust the notebook. <br />On GitHub, the HTML representation is unable to render, please try loading this page with nbviewer.org.</b></div><div class=\"sk-container\" hidden><div class=\"sk-item\"><div class=\"sk-estimator sk-toggleable\"><input class=\"sk-toggleable__control sk-hidden--visually\" id=\"sk-estimator-id-7\" type=\"checkbox\" checked><label for=\"sk-estimator-id-7\" class=\"sk-toggleable__label sk-toggleable__label-arrow\">LinearRegression</label><div class=\"sk-toggleable__content\"><pre>LinearRegression()</pre></div></div></div></div></div>"
      ],
      "text/plain": [
       "LinearRegression()"
      ]
     },
     "execution_count": 45,
     "metadata": {},
     "output_type": "execute_result"
    }
   ],
   "source": [
    "model = LinearRegression()\n",
    "model.fit(X_train, y_train)"
   ]
  },
  {
   "cell_type": "markdown",
   "id": "d434e172-aebc-4adc-baab-121e686db55a",
   "metadata": {},
   "source": [
    "- <font size=\"6\">Krok 5: Przewidywanie i ocena modelu</font>\n",
    "\n",
    "Wykonamy przewidywania na podstawie zestawu testowego i ocenimy model. Użyjemy miar takich jak R^2 aby ocenić jak dobrze model pasuje dp danych."
   ]
  },
  {
   "cell_type": "code",
   "execution_count": 46,
   "id": "069a2833-adfb-4185-b415-c1c752a5b89a",
   "metadata": {},
   "outputs": [
    {
     "name": "stdout",
     "output_type": "stream",
     "text": [
      "Accuracy of the model: 0.8715359976384469\n"
     ]
    }
   ],
   "source": [
    "y_pred = model.predict(X_test)\n",
    "print(\"Accuracy of the model:\", model.score(X_test, y_test))"
   ]
  },
  {
   "cell_type": "markdown",
   "id": "3566280b-4760-4f00-b23d-e67ed7843fd3",
   "metadata": {},
   "source": [
    "- <font size=\"6\">Krok 6: Wizualizacja wyników</font>\n",
    "\n",
    "Wyświetl wykres z danymi treningowymi, testowymi oraz linią regresji.\r\n",
    "\r\n"
   ]
  },
  {
   "cell_type": "code",
   "execution_count": 47,
   "id": "9f0b4d65-45c0-4089-8b90-ec66b07eb8b4",
   "metadata": {},
   "outputs": [
    {
     "data": {
      "image/png": "[encoded data removed]",
      "text/plain": [
       "<Figure size 640x480 with 1 Axes>"
      ]
     },
     "metadata": {},
     "output_type": "display_data"
    }
   ],
   "source": [
    "plt.scatter(X_train, y_train, color='blue', label='Training data')\n",
    "plt.scatter(X_test, y_test, color='green', label='Testing data')\n",
    "plt.plot(X, model.predict(X), color='red', label='Linear regression')\n",
    "plt.title('House prices prediction')\n",
    "plt.xlabel('House size (sq meters)')\n",
    "plt.ylabel('Price (thousand dollars)')\n",
    "plt.legend()\n",
    "plt.show()"
   ]
  },
  {
   "cell_type": "markdown",
   "id": "1bccc3c1-f67f-469c-8351-1ad35c607c98",
   "metadata": {},
   "source": [
    "<font size=\"5\">Odpowiedz poniżej na 3 pytania:</font>\n",
    "1. Co można zrobić z danymi aby osiągnąć więcej niż 0,9 dopasowania, zaproponuj takie dane.\n",
    "2. Zmiana \"test_size\" wpływa na to jak duży procent danych jest wykorzystany do testowania modelu a jak duży do treningu. Jakie otrzymasz accuracy, przy zmianie tej wartości na 10%, 50%, 80% i 90%\n",
    "3. Do czego jest używany reshape w kroku 2"
   ]
  },
  {
   "cell_type": "markdown",
   "id": "d0fdf8da-b0f8-4bfe-8196-c5f5419ed6ed",
   "metadata": {},
   "source": [
    "Miejsce na odpowiedź: \n",
    "1. \n",
    "2.\n",
    "3. "
   ]
  },
  {
   "cell_type": "markdown",
   "id": "b4cf0bb3-6dbf-44e6-b322-6943ee0ee174",
   "metadata": {},
   "source": []
  },
  {
   "cell_type": "code",
   "execution_count": null,
   "id": "95c891a2-2c5c-49de-8f7e-50b5f946178e",
   "metadata": {},
   "outputs": [],
   "source": []
  },
  {
   "cell_type": "code",
   "execution_count": null,
   "id": "ec0ef876-5db1-4718-85f9-fa73535cf0f2",
   "metadata": {},
   "outputs": [],
   "source": []
  },
  {
   "cell_type": "code",
   "execution_count": null,
   "id": "fe7cfe4a-3f9a-496f-bed0-737b73096b97",
   "metadata": {},
   "outputs": [],
   "source": []
  },
  {
   "cell_type": "code",
   "execution_count": null,
   "id": "5d302ae5-d90e-4a9f-b59f-d2295de32da6",
   "metadata": {},
   "outputs": [],
   "source": []
  },
  {
   "cell_type": "code",
   "execution_count": null,
   "id": "f58aa2b5-f9fe-4164-bae9-8ca6c5afb796",
   "metadata": {},
   "outputs": [],
   "source": []
  },
  {
   "cell_type": "markdown",
   "id": "fb622a5f-4499-4da9-9974-2ad5e262f039",
   "metadata": {},
   "source": [
    "<font size=\"10\">Zadanie 2</font>\n",
    "\n",
    "<font size=\"5\">Zadanie: Przewidywanie mediany cen domów w Californi</font>\r\n"
   ]
  },
  {
   "cell_type": "markdown",
   "id": "256bfedc-dc20-4f20-b501-9e7d72938dfe",
   "metadata": {},
   "source": [
    "- <font size=\"6\">Krok 1:Import bibliotek i danych</font>\n",
    "\n",
    "Zaimplementujmy standardowe biblioteki + dodatkowo załadujmy dane z biblioteki sklearn związane z cenami domów w Californi"
   ]
  },
  {
   "cell_type": "code",
   "execution_count": 53,
   "id": "89b16784-6121-467d-a816-c4506a3ae60d",
   "metadata": {},
   "outputs": [],
   "source": [
    "#miejsce na pozostałe importy :)\n",
    "from sklearn.datasets import fetch_california_housing"
   ]
  },
  {
   "cell_type": "markdown",
   "id": "01331d89-51a9-48ff-848e-e313627022af",
   "metadata": {},
   "source": [
    "- <font size=\"6\">Krok 2:Wczytanie i przygotowanie danych</font>\n",
    "\n",
    "Obrobię dane za Państwa, skupimy się na czymś takim jak \"RM\" czyli liczba pokoi "
   ]
  },
  {
   "cell_type": "code",
   "execution_count": 110,
   "id": "7b1d57be-3ee4-4061-9fad-47a42be31dba",
   "metadata": {},
   "outputs": [],
   "source": [
    "california = fetch_california_housing()\n",
    "print(california.data[:10])"
   ]
  },
  {
   "cell_type": "markdown",
   "id": "89ecb50c-9e5e-4f06-a919-c242963822a4",
   "metadata": {},
   "source": [
    "Na tej stronie można znaleźć opis tych danych:\n",
    "https://inria.github.io/scikit-learn-mooc/python_scripts/datasets_california_housing.html\n",
    "\n",
    "Poniżej skrócony opis ode mnie"
   ]
  },
  {
   "cell_type": "markdown",
   "id": "ee6335c3-75be-4108-8a07-76f1273821ac",
   "metadata": {},
   "source": [
    "- MedInc - medianowy dochód w bloku mieszkalnym [0]\n",
    "- HouseAge - mediana wieku domów w bloku [1]\n",
    "- AveRooms - średnia liczba pokoi na dom [2]\n",
    "- AveBedrms - średnia liczba sypialni na dom [3] \n",
    "- Population - liczba osób zamieszkujących blok [4]\n",
    "- AveOccup - średnia liczba osób zamieszkujących dom [5]\n",
    "- Latitude - szerokość geograficzna [6]\n",
    "- Longitude - długość geograficzna [7]"
   ]
  },
  {
   "cell_type": "code",
   "execution_count": 98,
   "id": "8c402ca5-7360-4e29-ad3b-7664b6edcf9a",
   "metadata": {},
   "outputs": [],
   "source": [
    "#Proszę wybrać jeden z tych elementów wstawiając zamiast \"i\" numer elementu\n",
    "X = california.data[:, [i]]  # wprowadź cechę którą chcesz zbadać\n",
    "y = california.target\n"
   ]
  },
  {
   "cell_type": "markdown",
   "id": "ffc5cac7-d9b5-4524-b260-6e3c10a6c96a",
   "metadata": {},
   "source": [
    "- <font size=\"6\">Krok 3:Podział danych na zestaw treningowy i testowy</font>\n",
    "\n",
    "Podziel dane, tak jak w poprzednim przykładzie."
   ]
  },
  {
   "cell_type": "code",
   "execution_count": 99,
   "id": "903bee93-9518-4ab4-89a4-19c784840e06",
   "metadata": {},
   "outputs": [],
   "source": []
  },
  {
   "cell_type": "markdown",
   "id": "0f1030e7-ffc4-4532-a34a-76ab361d2faa",
   "metadata": {},
   "source": [
    "- <font size=\"6\">Krok 4:Trenowanie modelu regresji</font>\n",
    "\n",
    "Utwórz i wytrenuj model regresji liniowej na danych treningowych. "
   ]
  },
  {
   "cell_type": "code",
   "execution_count": 122,
   "id": "635b9d40-fdd7-4b2c-b1e7-6c2fafc26e81",
   "metadata": {},
   "outputs": [],
   "source": [
    "# Trenowanie modelu regresji liniowej\n"
   ]
  },
  {
   "cell_type": "markdown",
   "id": "d8c839ee-dd5a-49a0-926a-212d4e421f65",
   "metadata": {},
   "source": [
    "- <font size=\"6\">Krok 5:Przewidydwanie na podstawie zestawu testowego</font>\n",
    "\n"
   ]
  },
  {
   "cell_type": "code",
   "execution_count": 107,
   "id": "7196917c-77b6-4feb-87bf-3bcc9db05b95",
   "metadata": {},
   "outputs": [],
   "source": [
    "# Przewidywanie na podstawie zestawu testowego\n"
   ]
  },
  {
   "cell_type": "markdown",
   "id": "614c44a8-e708-4ef2-9656-a6c4f8e58854",
   "metadata": {},
   "source": [
    "- <font size=\"6\">Krok 6:Wizualizacja </font>\n",
    "\n"
   ]
  },
  {
   "cell_type": "code",
   "execution_count": 121,
   "id": "551c1db2-3449-41d7-8d68-558a315c6a00",
   "metadata": {},
   "outputs": [],
   "source": [
    "#plt.title('Predykcja cen domów w Kalifornii')\n",
    "#plt.xlabel('X')\n",
    "#plt.ylabel('Mediana ceny domu (x100,000 $)')\n",
    "#plt.legend()\n",
    "#plt.show()"
   ]
  },
  {
   "cell_type": "markdown",
   "id": "aff7cfd6-356c-4c67-8b05-f889c48583da",
   "metadata": {},
   "source": [
    "<font size=\"6\">PYTANIA</font>\n"
   ]
  },
  {
   "cell_type": "code",
   "execution_count": 106,
   "id": "930d6f7a-e9ce-4d4e-ad36-258984b8442d",
   "metadata": {},
   "outputs": [],
   "source": [
    "#1. Podaj 3 cechy w odpowiedniej kolejności która cecha najlepiej nadaje się do sprawdzenia ceny domu w Kaliforni?    \n",
    "    \n",
    "#2. Jakie accuracy osiągnąłeś/osiągnęłaś przy cesze związaną z szerokością geograficzną?\n",
    "   \n",
    "#3. Czy Twoim zdaniem któraś z tych cech jest użyteczna? Dlaczego?</font>\n",
    "\n",
    "#4. Oprócz oceny modelu współczynnikiem determinacji, model można ocenić średnim błędem kwadratowym MSE, używając funkcji mean_squared_error, jakie wtedy otrzymujesz wyniki oceny modelu dla najlepszej sytuacji?"
   ]
  },
  {
   "cell_type": "code",
   "execution_count": null,
   "id": "f63485ae-12c3-44d8-a89d-c833ab7783b2",
   "metadata": {},
   "outputs": [],
   "source": []
  },
  {
   "cell_type": "code",
   "execution_count": null,
   "id": "cf3bf699-e128-4f16-92ae-8fdeac892d48",
   "metadata": {},
   "outputs": [],
   "source": []
  },
  {
   "cell_type": "code",
   "execution_count": null,
   "id": "18e56477-45bf-4dc6-a5e7-6fe43f02a3f7",
   "metadata": {},
   "outputs": [],
   "source": []
  },
  {
   "cell_type": "markdown",
   "id": "afc0b3dd-c77d-4248-a0a8-c60c0e47d187",
   "metadata": {},
   "source": [
    "<font size=\"10\">Zadanie 3</font>\n",
    "\n",
    "<font size=\"5\">Zadanie: Przewidywanie postępu cukrzycy po roku od badania</font>\n",
    "\n",
    "Zestaw danych dotyczących cukrzycy zawiera dziesięć zmiennych bazowych: wiek, płeć, wskaźnik masy ciała, średnie ciśnienie krwi oraz sześć pomiarów surowicy krwi. Celem jest przewidzenie postępu choroby po roku od podstawowego badania, co jest kwantyfikowane za pomocą miary ilościowej choroby.\r\n",
    "\r\n",
    "\n",
    "\n",
    "https://rowannicholls.github.io/python/data/sklearn_datasets/diabetes.html"
   ]
  },
  {
   "cell_type": "code",
   "execution_count": 124,
   "id": "0a5a294f-7547-44fc-a80d-caf16f05e8b6",
   "metadata": {},
   "outputs": [],
   "source": [
    "#Krok 1: Importowanie bibliotek i danych\n",
    "\n",
    "import numpy as np\n",
    "import matplotlib.pyplot as plt\n",
    "from sklearn import datasets\n",
    "from sklearn.model_selection import train_test_split\n",
    "from sklearn.linear_model import LinearRegression\n",
    "from sklearn.metrics import r2_score\n",
    "\n",
    "# Wczytanie zestawu danych dotyczących cukrzycy\n",
    "diabetes = datasets.load_diabetes()\n",
    "\n",
    "#Krok 2: Podział danych na zestaw treningowy i testowy\n",
    "\n",
    "#Krok 3: Budowa i trening modelu regresji liniowej\n",
    "\n",
    "\n",
    "#Krok 4: Ocena modelu, Dokonaj predykcji i sprawdź współczynnik determinacji R^2 i średni błąd kwadratowy MSE\n",
    "\n",
    "\n",
    "#Krok 5: Wizualizacja wyników\n",
    "\n"
   ]
  },
  {
   "cell_type": "code",
   "execution_count": null,
   "id": "43d25448-0a1c-4103-90bb-450908f376be",
   "metadata": {},
   "outputs": [],
   "source": [
    "<font size=\"6\">PYTANIA</font>"
   ]
  },
  {
   "cell_type": "code",
   "execution_count": null,
   "id": "2940acc0-17f3-49f8-b820-453cdd028864",
   "metadata": {},
   "outputs": [],
   "source": [
    "#1. Jakie cechy mają największy wpływ na postęp cukrzycy?\n",
    "\n",
    "#2. Przy najlepszej cesze jakie są wartości MSE i R^2\n",
    "\n",
    "#3. Czy dodanie większej ilości danych poprawi model?"
   ]
  },
  {
   "cell_type": "markdown",
   "id": "c4e8804e-2122-437d-a586-cccab20d3e2c",
   "metadata": {},
   "source": [
    "<font size=\"10\">Zadanie 4</font>\n",
    "\n",
    "<font size=\"5\">Korelacja danych cukrzycy</font>"
   ]
  },
  {
   "cell_type": "code",
   "execution_count": 131,
   "id": "429ca69d-995b-4e3b-a98f-03a1de1aa032",
   "metadata": {},
   "outputs": [],
   "source": [
    "from sklearn.datasets import load_diabetes\n",
    "import pandas as pd\n",
    "\n",
    "#Do liczenia Korelacji potrzebujemy dataFrame, bierzemy cel \"progression\" i dodajemy do danych\n",
    "diabetes = load_diabetes()\n",
    "X = pd.DataFrame(diabetes.data, columns=diabetes.feature_names)\n",
    "y = pd.Series(diabetes.target, name=\"Progression\")\n",
    "\n",
    "# Dodanie kolumny Progression do DataFrame\n",
    "X['Progression'] = y\n",
    "\n",
    "# Obliczenie współczynnika korelacji Pearsona dla X jak na poprzednich zajęciach\n",
    "\n",
    "\n",
    "# Wyświetlenie macierzy korelacji jak na poprzednich zajęciach\n"
   ]
  },
  {
   "cell_type": "code",
   "execution_count": null,
   "id": "9378685d-00f7-4610-b47f-4843fe677433",
   "metadata": {},
   "outputs": [],
   "source": []
  },
  {
   "cell_type": "code",
   "execution_count": null,
   "id": "11713d39-a278-43e6-b4b3-7169971b3ab3",
   "metadata": {},
   "outputs": [],
   "source": []
  },
  {
   "cell_type": "code",
   "execution_count": null,
   "id": "f1aa4833-48c8-425d-a1f0-740e2e76a856",
   "metadata": {},
   "outputs": [],
   "source": []
  },
  {
   "cell_type": "code",
   "execution_count": null,
   "id": "8cd2e57f-97df-4e5d-8fb1-bb8966bf3a18",
   "metadata": {},
   "outputs": [],
   "source": []
  },
  {
   "cell_type": "code",
   "execution_count": null,
   "id": "44361edc-6c96-4e31-9d0b-3aa3f69f35e8",
   "metadata": {},
   "outputs": [],
   "source": []
  },
  {
   "cell_type": "markdown",
   "id": "356fd918-1479-4d85-9f57-3e3e814b4d1f",
   "metadata": {},
   "source": [
    "<font size=\"10\">Zadanie 5</font>\n",
    "\n",
    "<font size=\"5\">Korelacja danych domów z Kalifornii</font>"
   ]
  },
  {
   "cell_type": "code",
   "execution_count": 130,
   "id": "33e0ce5a-7411-478b-b820-9520ff22a540",
   "metadata": {},
   "outputs": [],
   "source": [
    "from sklearn.datasets import fetch_california_housing\n",
    "import pandas as pd\n",
    "import seaborn as sns\n",
    "import matplotlib.pyplot as plt\n",
    "\n",
    "\n",
    "california = fetch_california_housing()\n",
    "X = pd.DataFrame(california.data, columns=california.feature_names)\n",
    "y = pd.Series(california.target, name=\"MedianHouseValue\")\n",
    "\n",
    "# Dodajemy medianę cen domów do DataFrame\n",
    "X['MedianHouseValue'] = y\n",
    "\n",
    "# Rysujemy macierz korelacji"
   ]
  },
  {
   "cell_type": "markdown",
   "id": "b6dfff96-7ff7-427d-941c-9178413cff18",
   "metadata": {},
   "source": [
    "<font size=\"10\">Pytania finalne</font>\n",
    "\n",
    "<font size=\"4\">\n",
    "1. Jakie mamy wnioski z dwóch poprzednich zadań?\n",
    "    \n",
    "2. Jakie elementy miały najlepszą korelację dla zbioru cukrzycy?\n",
    "\n",
    "3. Jakie elementy miały najlepszą korelację dla zbioru domów z Californi?\n",
    "</font>"
   ]
  },
  {
   "cell_type": "code",
   "execution_count": 133,
   "id": "920ba04f-6e93-4089-801d-9e19a02edd85",
   "metadata": {},
   "outputs": [],
   "source": [
    "#1\n",
    "\n",
    "#2\n",
    "\n",
    "#3\n"
   ]
  },
  {
   "cell_type": "code",
   "execution_count": null,
   "id": "30bcb46d-aa95-484d-b3cb-68d8c9beb190",
   "metadata": {},
   "outputs": [],
   "source": []
  },
  {
   "cell_type": "code",
   "execution_count": null,
   "id": "84559432-ddc8-40ea-93ac-711bb22d8e4f",
   "metadata": {},
   "outputs": [],
   "source": []
  }
 ],
 "metadata": {
  "kernelspec": {
   "display_name": "Python 3 (ipykernel)",
   "language": "python",
   "name": "python3"
  },
  "language_info": {
   "codemirror_mode": {
    "name": "ipython",
    "version": 3
   },
   "file_extension": ".py",
   "mimetype": "text/x-python",
   "name": "python",
   "nbconvert_exporter": "python",
   "pygments_lexer": "ipython3",
   "version": "3.11.7"
  }
 },
 "nbformat": 4,
 "nbformat_minor": 5
}
