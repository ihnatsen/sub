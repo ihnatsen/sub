{
 "cells": [
  {
   "cell_type": "markdown",
   "id": "4f5d1066-e6f5-40a9-ab44-2c8da6910c4e",
   "metadata": {},
   "source": [
    "<font size=\"10\">Słowniczek</font>\n"
   ]
  },
  {
   "cell_type": "markdown",
   "id": "556e3a43-9849-440b-adc7-08921ef2de8a",
   "metadata": {},
   "source": [
    "Klasa __LinearRegression__ z scikit-learn służy do wykonywania regresji liniowej. Pozwala na modelowanie zależności liniowych między zmienną zależną a jedną lub więcej zmiennymi niezależnymi."
   ]
  },
  {
   "cell_type": "code",
   "id": "4ce5786d-2b85-46dd-8cc3-fd908d03fcdb",
   "metadata": {
    "ExecuteTime": {
     "end_time": "2024-04-23T07:48:57.980068Z",
     "start_time": "2024-04-23T07:48:57.947349Z"
    }
   },
   "source": [
    "from sklearn.linear_model import LinearRegression\n",
    "model = LinearRegression()\n",
    "model.fit(X_train, y_train)\n",
    "y_pred = model.predict(X_test)"
   ],
   "outputs": [],
   "execution_count": 4
  },
  {
   "cell_type": "markdown",
   "id": "30fdd044-7013-4840-997c-af68e2631a76",
   "metadata": {},
   "source": [
    "Funkcja __train_test_split__ dzieli dane na zestawy treningowe i testowe. Jest niezbędna do oceny modelu na niewidzianych danych, co pozwala na lepsze zrozumienie jego ogólnej wydajności."
   ]
  },
  {
   "cell_type": "code",
   "id": "bcc3c88a-b098-4602-90ce-ad0378f14819",
   "metadata": {
    "ExecuteTime": {
     "end_time": "2024-04-23T07:48:59.626284Z",
     "start_time": "2024-04-23T07:48:59.617122Z"
    }
   },
   "source": [
    "from sklearn.model_selection import train_test_split\n",
    "X_train, X_test, y_train, y_test = train_test_split(X, y, test_size=0.2, random_state=42)\n"
   ],
   "outputs": [],
   "execution_count": 5
  },
  {
   "cell_type": "markdown",
   "id": "087ba8d8-7dc8-4ee6-840f-4e17220c4066",
   "metadata": {},
   "source": [
    "Klasa __PolynomialFeatures__ generuje nową macierz cech składającą się z wszystkich kombinacji cech o stopniu mniejszym lub równym określonemu stopniowi. Używana w regresji wielomianowej do tworzenia cech wyższego stopnia."
   ]
  },
  {
   "cell_type": "code",
   "id": "23e94a49-a666-4572-b906-a91c292dacc6",
   "metadata": {
    "ExecuteTime": {
     "end_time": "2024-04-23T07:49:01.217451Z",
     "start_time": "2024-04-23T07:49:01.193542Z"
    }
   },
   "source": [
    "from sklearn.preprocessing import PolynomialFeatures\n",
    "poly = PolynomialFeatures(degree=2)\n",
    "X_poly = poly.fit_transform(X)\n"
   ],
   "outputs": [],
   "execution_count": 6
  },
  {
   "cell_type": "markdown",
   "id": "6f718fc3-c2d1-4732-a3fe-e0161c092327",
   "metadata": {},
   "source": [
    "__StandardScaler__ standaryzuje cechy poprzez usunięcie średniej i skalowanie do jednostkowej wariancji. Jest to szczególnie ważne, gdy cechy mają różne zakresy, ponieważ algorytmy oparte na odległości mogą być na nie wrażliwe."
   ]
  },
  {
   "cell_type": "code",
   "id": "34781a2a-1dd2-4f86-9310-c5feabdf47ab",
   "metadata": {
    "ExecuteTime": {
     "end_time": "2024-04-23T07:49:02.475575Z",
     "start_time": "2024-04-23T07:49:02.460615Z"
    }
   },
   "source": [
    "from sklearn.preprocessing import StandardScaler\n",
    "scaler = StandardScaler()\n",
    "X_scaled = scaler.fit_transform(X)"
   ],
   "outputs": [],
   "execution_count": 7
  },
  {
   "cell_type": "markdown",
   "id": "93711798-a8a5-45b8-b5fb-f703a384bd52",
   "metadata": {},
   "source": [
    "Funkcja __mean_squared_error__ oblicza błąd średniokwadratowy (MSE), który jest standardową metryką do oceny modeli regresji. MSE jest średnią kwadratów różnic między przewidywanymi a rzeczywistymi wartościami."
   ]
  },
  {
   "cell_type": "code",
   "id": "9d20a1bc-94db-478d-b453-28bc7c4eb3fe",
   "metadata": {
    "ExecuteTime": {
     "end_time": "2024-04-23T07:49:03.719407Z",
     "start_time": "2024-04-23T07:49:03.713041Z"
    }
   },
   "source": [
    "from sklearn.metrics import mean_squared_error\n",
    "mse = mean_squared_error(y_test, y_pred)"
   ],
   "outputs": [],
   "execution_count": 8
  },
  {
   "cell_type": "code",
   "execution_count": null,
   "id": "a0634a5c-74a2-4b72-ac50-aa83baacbf64",
   "metadata": {},
   "outputs": [],
   "source": []
  },
  {
   "cell_type": "markdown",
   "id": "c13efab4-f1a6-46b4-860b-e5b6921c529e",
   "metadata": {},
   "source": []
  },
  {
   "cell_type": "markdown",
   "id": "921a7548-5abc-4fd4-8522-93ecbe9ca596",
   "metadata": {},
   "source": [
    "<font size=\"10\">Regresja liniowa wielu zmiennych</font>\n",
    "\n",
    "\n",
    "**Opis**\n",
    "Regresja liniowa wielu zmiennych (nazywana regresją wieloraką), znana także jako wielowymiarowa regresja liniowa, to statystyczna metoda używana do modelowania związku między dwiema lub więcej zmiennymi niezależnymi (predyktorami) a zmienną zależną (odpowiedzią). "
   ]
  },
  {
   "cell_type": "code",
   "id": "a57c6f5e-2beb-4a7c-a310-379cc71dbf67",
   "metadata": {
    "ExecuteTime": {
     "end_time": "2024-04-23T07:49:05.791394Z",
     "start_time": "2024-04-23T07:49:05.780226Z"
    }
   },
   "source": [
    "from sklearn.model_selection import train_test_split\n",
    "X_train, X_test, y_train, y_test = train_test_split(X, y, test_size=0.2, random_state=42)"
   ],
   "outputs": [],
   "execution_count": 9
  },
  {
   "cell_type": "markdown",
   "id": "b15dfd73-8b04-4811-931b-abd3413ea836",
   "metadata": {},
   "source": [
    "<font size=\"6\">Zadanie 1</font>\n",
    "\n",
    "Przygotuj model regresji wielu zmiennych na podstawie danych odnośnie domów w Kaliforni\n",
    "[Te zadanie jest zrobione należy je tylko uruchomić i przeanalizować kod]"
   ]
  },
  {
   "cell_type": "code",
   "id": "cdd012f7-59cf-4ca9-b034-ba65c115fb97",
   "metadata": {
    "ExecuteTime": {
     "end_time": "2024-04-23T07:49:07.263571Z",
     "start_time": "2024-04-23T07:49:07.113574Z"
    }
   },
   "source": [
    "#Wczytanie odpowiednich bibliotek:\n",
    "import numpy as np  # Biblioteka NumPy używana jest do obliczeń numerycznych\n",
    "import pandas as pd  # Biblioteka Pandas jest używana do manipulacji danymi i analizy,\n",
    "from sklearn.datasets import fetch_california_housing  # Funkcja fetch_california_housing z biblioteki scikit-learn służy do pobierania zestawu danych dotyczących cen domów w Kalifornii\n",
    "from sklearn.model_selection import train_test_split  # Funkcja train_test_split z biblioteki scikit-learn jest używana do dzielenia danych na zestawy treningowe i testowe, co pozwala ocenić skuteczność modelu na danych\n",
    "from sklearn.linear_model import LinearRegression  # Klasa LinearRegression z biblioteki scikit-learn jest używana do budowania modelu regresji liniowej\n",
    "from sklearn.metrics import mean_squared_error  # Funkcja mean_squared_error z biblioteki scikit-learn jest używana do obliczenia błędu średniokwadratowego między wartościami przewidywanymi przez model a rzeczywistymi wartościami, co jest miarą jakości modelu regresji.\n",
    "\n",
    "# Wczytanie danych\n",
    "california = fetch_california_housing()\n",
    "X = pd.DataFrame(california.data, columns=california.feature_names)\n",
    "y = pd.DataFrame(california.target, columns=['MedianHouseValue'])  #tutaj mogło by być dowolnie co innego nie tylko MedianHouseValue\n",
    "\n",
    "\n",
    "# Podział na zbiór treningowy i testowy\n",
    "X_train, X_test, y_train, y_test = train_test_split(X, y, test_size=0.2, random_state=42)\n",
    "\n",
    "\n",
    "# Inicjalizacja modelu\n",
    "model = LinearRegression()\n",
    "\n",
    "# Trenowanie modelu\n",
    "model.fit(X_train, y_train)\n",
    "\n",
    "# Przewidywanie cen na zbiorze testowym\n",
    "y_pred = model.predict(X_test)\n",
    "\n",
    "# Obliczenie błędu średniokwadratowego\n",
    "mse = mean_squared_error(y_test, y_pred)\n",
    "print(f'Mean Squared Error: {mse}')"
   ],
   "outputs": [
    {
     "name": "stdout",
     "output_type": "stream",
     "text": [
      "Mean Squared Error: 0.555891598695244\n"
     ]
    }
   ],
   "execution_count": 10
  },
  {
   "cell_type": "markdown",
   "id": "dce660ca-0715-4a4d-9d9f-e299a223d036",
   "metadata": {},
   "source": [
    "<font size=\"5\">Skalowanie</font>\n",
    "\n",
    "Załóżmy, że mamy dane o domach, gdzie jedna z cech to powierzchnia w metrach kwadratowych (np. 50, 150, 250 m²), a druga to cena w złotówkach (np. 500000, 1500000, 2500000 zł). Bez skalowania, cecha ceny dominuje z powodu dużo wyższych wartości liczbowych, co może zakłócić proces uczenia.\n",
    "\n",
    "**Przed skalowaniem:**\n",
    "\n",
    "-Powierzchnia 50, 150, 20\n",
    "\n",
    "-Cena: 500000, 1500000, 25000\n",
    "\n",
    "\n",
    "__Po skalowaniu__ (StandardScaler, który odejmuje średnią i dzieli przez odchylenie standardowe): **\n",
    "\n",
    "-Powierzchnia po skalowaniu: -1, 0, 1 (przykładowe wartości po transformacji)\n",
    "\n",
    "-Cena po skalowaniu: -1, 0, 1 (przykładowe wartości po transformacji)\n",
    "\n",
    "\n",
    "Jak widać, po skalowaniu obie cechy mają podobny zakres i rozkład, co sprawia, że każda z nich ma równy wpływ na modelowanie. Każda cecha przyczynia się w podobny sposób do wyników algorytmu, co zwiększa skuteczność modelu.\n",
    "\n",
    "\n",
    "\n",
    "\n",
    "\n",
    "\n",
    "\n",
    "\n",
    "\n",
    "\n",
    "Skalowanie cech (lub skalowanie danych) to proces przekształcania wartości różnych zmiennych tak, aby znajdowały się w podobnym zakresie. Dzięki temu algorytmy uczenia maszynowego mogą lepiej i szybciej działać, ponieważ żadna z cech nie dominuje nad innymi ze względu na różnice w skali.\n",
    "\n",
    ".\n",
    "\n"
   ]
  },
  {
   "cell_type": "code",
   "id": "227e69e2-1818-4bab-a9ba-04cbe2deb554",
   "metadata": {
    "ExecuteTime": {
     "end_time": "2024-04-23T07:49:10.908706Z",
     "start_time": "2024-04-23T07:49:10.868384Z"
    }
   },
   "source": [
    "# Wczytanie danych\n",
    "california = fetch_california_housing()\n",
    "X = pd.DataFrame(california.data, columns=california.feature_names)\n",
    "y = pd.DataFrame(california.target, columns=['MedianHouseValue'])  \n",
    "\n",
    "# Podział na zbiór treningowy i testowy\n",
    "X_train, X_test, y_train, y_test = train_test_split(X, y, test_size=0.2, random_state=42)\n",
    "\n",
    "# Skalowanie cech\n",
    "scaler = StandardScaler()\n",
    "X_train_scaled = scaler.fit_transform(X_train)\n",
    "X_test_scaled = scaler.transform(X_test)\n",
    "\n",
    "# Inicjalizacja modelu\n",
    "model = LinearRegression()\n",
    "\n",
    "# Trenowanie modelu na przeskalowanych danych\n",
    "model.fit(X_train_scaled, y_train)\n",
    "\n",
    "# Przewidywanie cen na przeskalowanym zbiorze testowym\n",
    "y_pred = model.predict(X_test_scaled)\n",
    "\n",
    "# Obliczenie błędu średniokwadratowego\n",
    "mse = mean_squared_error(y_test, y_pred)\n",
    "print(f'Mean Squared Error: {mse}')\n",
    "\n"
   ],
   "outputs": [
    {
     "name": "stdout",
     "output_type": "stream",
     "text": [
      "Mean Squared Error: 0.5558915986952444\n"
     ]
    }
   ],
   "execution_count": 11
  },
  {
   "cell_type": "markdown",
   "id": "f5286284-52c7-47f4-99b8-f8129854e6c6",
   "metadata": {},
   "source": [
    "<font size=\"5\">Pytania</font>\n",
    "1. Czy dodanie skalowania wpłynęło na MSE ?\n",
    "2. Jakie widzisz różnice w regresji liniowej jednej zmiennej do regresji liniowej wielu zmiennych?"
   ]
  },
  {
   "metadata": {},
   "cell_type": "raw",
   "source": [
    "1. Udowodnienie tego matematycznie jest trudne, a tym bardziej nie chcę tego robić. Wartości MSE z skalowaniem i bez skalowania są sobie równe.\n",
    "\n",
    "2. W regresji liniowej wielu zmiennych jest niezbędne skalowanie, ponieważ jeśli wartości czynników objęktów należą do różnych przedziałów, to istnieje ryzyko, że algorytmy oparte na odległości mogą na nie być wrażliwe."
   ],
   "id": "c933a347edeccb7f"
  },
  {
   "metadata": {},
   "cell_type": "markdown",
   "source": [
    "<font size=\"6\">Zadanie 2 - wina, regresja liniowa wielu zmiennych</font>\n",
    "\n",
    "1. Załadowanie i przygotowanie danych do analizy -> load_wine\n",
    "2. Przeprowadzenie eksploracji danych, w tym sprawdzenie statystyk opisowych.\n",
    "3. Podział danych na zbiór treningowy i testowy.\n",
    "4. Zbudowanie modelu regresji liniowej wielu zmiennych do przewidzenia jakości wina.\n",
    "5. Ocena modelu za pomocą metryki błędu średniokwadratowego (MSE)."
   ],
   "id": "0070e58a-882c-4940-b445-e00c9763f6dd"
  },
  {
   "cell_type": "code",
   "execution_count": null,
   "id": "a5cd9c1d-3c0e-4547-9821-aded6a559637",
   "metadata": {},
   "outputs": [],
   "source": []
  },
  {
   "cell_type": "markdown",
   "id": "174008d4-be24-4c6d-a0c2-7ca5943f2249",
   "metadata": {},
   "source": [
    "<font size=\"10\">Regresja wielomianowa</font>\n",
    "\n",
    "\n",
    "**Opis**\n",
    "Regresja wielomianowa to rozszerzenie regresji liniowej, które pozwala modelować zależności bardziej złożone niż prosta linia. "
   ]
  },
  {
   "metadata": {
    "ExecuteTime": {
     "end_time": "2024-04-23T09:17:44.620943Z",
     "start_time": "2024-04-23T09:17:44.544534Z"
    }
   },
   "cell_type": "code",
   "source": [
    "import numpy as np  \n",
    "import pandas as pd  \n",
    "from sklearn.model_selection import train_test_split \n",
    "from sklearn.linear_model import LinearRegression  \n",
    "from sklearn.metrics import mean_squared_error\n",
    "from sklearn.datasets import load_wine\n",
    "\n",
    "class DescriptiveStatistics:\n",
    "    @staticmethod\n",
    "    def run():\n",
    "        print('Number of null in records in dataset:')\n",
    "        print(X.isnull().sum())\n",
    "        print(y.isnull().sum())\n",
    "        print(X.describe())\n",
    "        print(y.describe())\n",
    "        \n",
    "        name_column = list(data['feature_names'])\n",
    "        for name in name_column:\n",
    "\n",
    "            plt.title(f'boxplot of {name}')\n",
    "            plt.xlabel(name)\n",
    "            plt.ylabel('Value')\n",
    "            plt.boxplot(X[name])\n",
    "            plt.show()\n",
    "\n",
    "            plt.title(f'hist of {name}')\n",
    "            plt.xlabel(name)\n",
    "            plt.ylabel('Value')\n",
    "            plt.hist(X[name])\n",
    "            plt.show()\n",
    "                 \n",
    "        \n",
    "# Wczytanie danych\n",
    "data = load_wine()\n",
    "\n",
    "X = pd.DataFrame(data.data, columns=data['feature_names'])\n",
    "y = pd.DataFrame(data.target, columns=['Quality'])\n",
    "# DescriptiveStatistics.run()\n",
    "\n",
    "X_train, X_test, y_train, y_test = train_test_split(X, y, test_size=0.2, random_state=42)\n",
    "\n",
    "scaler = StandardScaler()\n",
    "X_train_scaled = scaler.fit_transform(X_train)\n",
    "X_test_scaled = scaler.transform(X_test)\n",
    "\n",
    "# Inicjalizacja modelu\n",
    "model = LinearRegression()\n",
    "\n",
    "# Trenowanie modelu na przeskalowanych danych\n",
    "model.fit(X_train_scaled, y_train)\n",
    "\n",
    "# Przewidywanie cen na przeskalowanym zbiorze testowym\n",
    "y_pred = model.predict(X_test_scaled)\n",
    "\n",
    "# Obliczenie błędu średniokwadratowego\n",
    "mse = mean_squared_error(y_test, y_pred)\n",
    "print(f'Mean Squared Error: {mse}')\n"
   ],
   "id": "6ab23c53-2e73-4012-808c-de76285815b7",
   "outputs": [
    {
     "name": "stdout",
     "output_type": "stream",
     "text": [
      "Mean Squared Error: 0.0685334846425599\n"
     ]
    }
   ],
   "execution_count": 154
  },
  {
   "cell_type": "markdown",
   "id": "4d196070-6eec-4520-a9ca-727367441912",
   "metadata": {},
   "source": [
    "<font size=\"6\">Zadanie 3</font>\n",
    "\n",
    "Przygotowałem dla Państwa zadanie do wykonania, które polega na zastosowaniu regresji wielomianowej do przewidywania cen mieszkań w zależności od jednej wybranej cechy, np. wielkości mieszkania (powierzchni), aby pokazać, jak wpływa ona na cenę.\n",
    "Na ten moment stopień wielomianu jest równy 1, proszę poeksperymentować."
   ]
  },
  {
   "cell_type": "code",
   "execution_count": 42,
   "id": "c22388ea-fd76-4d49-9685-5359e84ec338",
   "metadata": {},
   "outputs": [
    {
     "data": {
      "text/plain": [
       "['MedInc',\n",
       " 'HouseAge',\n",
       " 'AveRooms',\n",
       " 'AveBedrms',\n",
       " 'Population',\n",
       " 'AveOccup',\n",
       " 'Latitude',\n",
       " 'Longitude']"
      ]
     },
     "execution_count": 42,
     "metadata": {},
     "output_type": "execute_result"
    }
   ],
   "source": [
    "#Na razie wypiszmy sobie wszystkie kolumny ze zbioru Kalifornia\n",
    "column_names = california.feature_names\n",
    "column_names"
   ]
  },
  {
   "cell_type": "code",
   "execution_count": null,
   "id": "3e1524fa-4e44-49e3-8bbe-5b9ab768c2f8",
   "metadata": {},
   "outputs": [],
   "source": [
    "#Teraz przejdźmy do kodu"
   ]
  },
  {
   "cell_type": "code",
   "id": "ad2c9a52-b6e0-4a4a-bea4-85a19d38f6b1",
   "metadata": {
    "ExecuteTime": {
     "end_time": "2024-04-23T09:48:46.165073Z",
     "start_time": "2024-04-23T09:48:45.417010Z"
    }
   },
   "source": [
    "from numpy import inf\n",
    "import numpy as np\n",
    "import pandas as pd\n",
    "from sklearn.datasets import fetch_california_housing\n",
    "from sklearn.model_selection import train_test_split\n",
    "from sklearn.linear_model import LinearRegression\n",
    "from sklearn.preprocessing import PolynomialFeatures\n",
    "from sklearn.metrics import mean_squared_error\n",
    "import matplotlib.pyplot as plt\n",
    "\n",
    "# Wczytanie danych\n",
    "california = fetch_california_housing()\n",
    "X = pd.DataFrame(california.data, columns=california.feature_names)\n",
    "y = pd.DataFrame(california.target, columns=['MedianHouseValue'])\n",
    "\n",
    "# Wybór jednej cechy, np. 'MedInc' (median income)\n",
    "X = X[['MedInc']]\n",
    "\n",
    "# Podział na zbiór treningowy i testowy\n",
    "X_train, X_test, y_train, y_test = train_test_split(X, y, test_size=0.2, random_state=42)\n",
    "\n",
    "# Regresja liniowa dla porównania\n",
    "lin_model = LinearRegression()\n",
    "lin_model.fit(X_train, y_train)\n",
    "y_pred_lin = lin_model.predict(X_test)\n",
    "mse_lin = mean_squared_error(y_test, y_pred_lin)\n",
    "\n",
    "# Transformacja wielomianowa cechy\n",
    "MSEs = []\n",
    "for degree in range(1,21):\n",
    "    poly = PolynomialFeatures(degree=degree)  # TUTAJ ZMIENIAMY STOPIEŃ WIELOMIANU\n",
    "    X_train_poly = poly.fit_transform(X_train)\n",
    "    X_test_poly = poly.transform(X_test)\n",
    "    \n",
    "    # Regresja wielomianowa\n",
    "    poly_model = LinearRegression()\n",
    "    poly_model.fit(X_train_poly, y_train)\n",
    "    y_pred_poly = poly_model.predict(X_test_poly)\n",
    "    mse_poly = mean_squared_error(y_test, y_pred_poly)\n",
    "    \n",
    "    # Wyniki\n",
    "    MSEs.append(mse_poly)\n",
    "    print(\"MSE - Linear Regression:\", mse_lin)\n",
    "    print(\"MSE - Polynomial Regression:\", degree, mse_poly)\n",
    "    \n",
    "    \n",
    "    # # Wizualizacja\n",
    "    # plt.figure(figsize=(10, 6))\n",
    "    # plt.scatter(X_test, y_test, color='black', label='Actual prices')\n",
    "    # plt.scatter(X_test, y_pred_lin, color='blue', label='Linear model predictions')\n",
    "    # plt.scatter(X_test, y_pred_poly, color='red', label='Polynomial model predictions', alpha=0.5)\n",
    "    # plt.xlabel('Median Income')\n",
    "    # plt.ylabel('Median House Value')\n",
    "    # plt.title('Comparison of Linear and Polynomial Regression')\n",
    "    # plt.legend()\n",
    "    # plt.show()\n",
    "    \n",
    "print(f'Najlepszy wynik {min(enumerate([inf]+MSEs),key=lambda index: index[1])}')\n",
    "plt.plot([*range(21)],[None] + MSEs)\n",
    "plt.title('Values MSE\\'s from degree')\n",
    "plt.xlabel('degree')\n",
    "plt.ylabel('MSE value')\n",
    "plt.show()"
   ],
   "outputs": [
    {
     "name": "stdout",
     "output_type": "stream",
     "text": [
      "MSE - Linear Regression: 0.7091157771765548\n",
      "MSE - Polynomial Regression: 1 0.7091157771765549\n",
      "MSE - Linear Regression: 0.7091157771765548\n",
      "MSE - Polynomial Regression: 2 0.7032732680932144\n",
      "MSE - Linear Regression: 0.7091157771765548\n",
      "MSE - Polynomial Regression: 3 0.6982964744960334\n",
      "MSE - Linear Regression: 0.7091157771765548\n",
      "MSE - Polynomial Regression: 4 0.6981042443894434\n",
      "MSE - Linear Regression: 0.7091157771765548\n",
      "MSE - Polynomial Regression: 5 0.6987158425288906\n",
      "MSE - Linear Regression: 0.7091157771765548\n",
      "MSE - Polynomial Regression: 6 0.6959703899326934\n",
      "MSE - Linear Regression: 0.7091157771765548\n",
      "MSE - Polynomial Regression: 7 0.6931443805797208\n",
      "MSE - Linear Regression: 0.7091157771765548\n",
      "MSE - Polynomial Regression: 8 0.6926991027596243\n",
      "MSE - Linear Regression: 0.7091157771765548\n",
      "MSE - Polynomial Regression: 9 0.6926816386321664\n",
      "MSE - Linear Regression: 0.7091157771765548\n",
      "MSE - Polynomial Regression: 10 0.6927678104107576\n",
      "MSE - Linear Regression: 0.7091157771765548\n",
      "MSE - Polynomial Regression: 11 0.6929597132310253\n",
      "MSE - Linear Regression: 0.7091157771765548\n",
      "MSE - Polynomial Regression: 12 0.6928881084563158\n",
      "MSE - Linear Regression: 0.7091157771765548\n",
      "MSE - Polynomial Regression: 13 0.6930859426504\n",
      "MSE - Linear Regression: 0.7091157771765548\n",
      "MSE - Polynomial Regression: 14 0.6953253735718303\n",
      "MSE - Linear Regression: 0.7091157771765548\n",
      "MSE - Polynomial Regression: 15 0.6982189914305721\n",
      "MSE - Linear Regression: 0.7091157771765548\n",
      "MSE - Polynomial Regression: 16 0.7077137253612006\n",
      "MSE - Linear Regression: 0.7091157771765548\n",
      "MSE - Polynomial Regression: 17 0.7233263863310007\n",
      "MSE - Linear Regression: 0.7091157771765548\n",
      "MSE - Polynomial Regression: 18 0.7932276956649564\n",
      "MSE - Linear Regression: 0.7091157771765548\n",
      "MSE - Polynomial Regression: 19 0.8187263728780481\n",
      "MSE - Linear Regression: 0.7091157771765548\n",
      "MSE - Polynomial Regression: 20 0.8449398010459735\n",
      "Najlepszy wynik (9, 0.6926816386321664)\n"
     ]
    },
    {
     "data": {
      "text/plain": [
       "<Figure size 640x480 with 1 Axes>"
      ],
      "image/png": "[encoded data removed]"
     },
     "metadata": {},
     "output_type": "display_data"
    }
   ],
   "execution_count": 177
  },
  {
   "cell_type": "markdown",
   "id": "5c010df7-15f0-4290-81bf-4dc93ad5a816",
   "metadata": {},
   "source": [
    "<font size=\"5\">Pytania</font>\n",
    "1. Jakie będzie MSE dla wielomianu 5 i 9 stopnia?\n",
    "2. Jaki stopień wielomianu będzie miał najmniejsze MSE?\n",
    "3. Która regresja działa lepiej?"
   ]
  },
  {
   "metadata": {},
   "cell_type": "markdown",
   "source": "MSE od 5 = 0.6987158425288906; MSE od 9 = 0.6926816386321664 ",
   "id": "fc349c0b681232d5"
  },
  {
   "metadata": {},
   "cell_type": "raw",
   "source": "Najlepszy wynik 9 MSE= 0.6926816386321664)",
   "id": "83c7557ea6c72ebd"
  },
  {
   "metadata": {},
   "cell_type": "markdown",
   "source": "Jeśli kryterium dobrego działania modelu jest MSE, to model regresji 9-ego stopnia jest najlepszy.",
   "id": "59329f7ba77f048e"
  },
  {
   "cell_type": "markdown",
   "id": "1b09de44-2335-4d1f-9114-a285f4038ca5",
   "metadata": {},
   "source": [
    "<font size=\"6\">Zadanie 4</font>\n",
    "\n",
    "Proszę wykorzystać regresję wielomianową, aby zbudować model przewidujący zużycie paliwa samochodów (mierzone jako liczba mil na galon - MPG) na podstawie ich cech, takich jak pojemność silnika, liczba cylindrów, waga, i inne."
   ]
  },
  {
   "attachments": {
    "f5fae169-4331-4b5c-9b81-d8fb627a0986.png": {
     "image/png": "[encoded data removed]"
    }
   },
   "cell_type": "markdown",
   "id": "9a610019-496e-400f-8e25-e557cbffd1ed",
   "metadata": {},
   "source": [
    "__Dane__\n",
    "Dane możesz pobrać z repozytorium UCI Machine Learning Repository oraz wrzucam na UBI\n",
    "\n",
    "![image.png](attachment:f5fae169-4331-4b5c-9b81-d8fb627a0986.png)"
   ]
  },
  {
   "cell_type": "code",
   "execution_count": null,
   "id": "ac58dafa-0ed5-4ede-8f0c-62d3a4f0f3a3",
   "metadata": {},
   "outputs": [],
   "source": [
    "'''\n",
    "Kroki do wykonania:\n",
    "1. Załadowanie danych: Wczytaj dane do środowiska Pythona, np. przy użyciu pandas.\n",
    "2. Czyszczenie danych: Upewnij się, że dane są czyste (brak wartości null, odpowiedni format danych).\n",
    "3. Eksploracja danych: Przeprowadź analizę statystyczną i wizualną danych.\n",
    "4. Przygotowanie danych: Wybierz cechy, które mają być użyte do modelowania. Ja wybrałem horsepower i weight, Państwo mogą wybrać inne.\n",
    "5. Podział na zbiory: Podziel dane na zbiór treningowy i testowy.\n",
    "6. Stworzenie modelu regresji wielomianowej: Użyj PolynomialFeatures z sklearn.preprocessing do stworzenia cech wielomianowych. Następnie zastosuj regresję liniową.\n",
    "7. Trenowanie modelu: Wytrenuj model na danych treningowych.\n",
    "8. Ewaluacja modelu: Oceń model na zbiorze testowym za pomocą MSE i innych metryk.\n",
    "9. Interpretacja wyników: Zinterpretuj wyniki, zwracając uwagę na to, które cechy mają największy wpływ na efektywność paliwową.\n",
    "'''"
   ]
  },
  {
   "cell_type": "code",
   "id": "c54a8ba3-de31-459c-878a-07b3b8726595",
   "metadata": {
    "ExecuteTime": {
     "end_time": "2024-04-23T11:05:59.220838Z",
     "start_time": "2024-04-23T11:05:58.696417Z"
    }
   },
   "source": [
    "import pandas as pd\n",
    "from sklearn.model_selection import train_test_split\n",
    "from sklearn.preprocessing import PolynomialFeatures, StandardScaler\n",
    "from sklearn.linear_model import LinearRegression\n",
    "from sklearn.metrics import mean_squared_error, r2_score\n",
    "import matplotlib.pyplot as plt\n",
    "from numpy import inf\n",
    "\n",
    "class DescriptiveStatistics:\n",
    "    @staticmethod\n",
    "    def run():\n",
    "        print('Number of null in records in dataset:')\n",
    "        print(data.isnull().sum())\n",
    "        print(y.isnull().sum())\n",
    "        print(data.describe())\n",
    "        print(y.describe())\n",
    "        \n",
    "        name_column = list(X.keys())\n",
    "        print(name_column)\n",
    "        for name in name_column:\n",
    "\n",
    "            plt.title(f'boxplot of {name}')\n",
    "            plt.xlabel(name)\n",
    "            plt.ylabel('Value')\n",
    "            plt.boxplot([float(value) for value in list(X[name])])\n",
    "            plt.show()\n",
    "\n",
    "            plt.title(f'hist of {name}')\n",
    "            plt.xlabel(name)\n",
    "            plt.ylabel('Value')\n",
    "            plt.hist([float(value) for value in list(X[name])])\n",
    "            plt.show()\n",
    "\n",
    "\n",
    "\n",
    "# Załadowanie danych\n",
    "data = pd.read_csv('auto-mpg.csv')\n",
    "data = data[data['horsepower'] != '?']\n",
    "\n",
    "\n",
    "# Podział danych\n",
    "\n",
    "X = data[['horsepower', 'weight']]  # Przykładowe cechy\n",
    "y = data['mpg']\n",
    "# DescriptiveStatistics.run()\n",
    "\n",
    "X_train, X_test, y_train, y_test = train_test_split(X, y, test_size=0.2, random_state=42)\n",
    "\n",
    "# Skalowanie cech\n",
    "scaler = StandardScaler()\n",
    "X_train_scaled = scaler.fit_transform(X_train)\n",
    "X_test_scaled = scaler.transform(X_test)\n",
    "\n",
    "MSEs = []\n",
    "r2 = []\n",
    "for degree in range(1,21):\n",
    "\n",
    "    poly = PolynomialFeatures(degree=degree)  # TUTAJ ZMIENIAMY STOPIEŃ WIELOMIANU\n",
    "    X_train_poly = poly.fit_transform(X_train_scaled)\n",
    "    X_test_poly = poly.transform(X_test_scaled)\n",
    "    \n",
    "    # Regresja wielomianowa\n",
    "    poly_model = LinearRegression()\n",
    "    poly_model.fit(X_train_poly, y_train)\n",
    "    y_pred_poly = poly_model.predict(X_test_poly)\n",
    "    \n",
    "    mse_poly = mean_squared_error(y_test, y_pred_poly)\n",
    "    r2_poly = r2_score(y_test, y_pred_poly)\n",
    "    \n",
    "    MSEs.append(mse_poly)\n",
    "    r2.append(r2_poly)\n",
    "    \n",
    "    # print(\"R^2 - Polynomial Regressi:\", degree, r2_poly)\n",
    "    # print(\"MSE - Polynomial Regression:\", degree, mse_poly)\n",
    "    \n",
    "    \n",
    "    \n",
    "print(f'Najlepszy wynik MSE {min(enumerate([inf]+MSEs),key=lambda index: index[1])}')\n",
    "print(f'Najlepszy wynik R^2 {max(enumerate([-inf]+r2),key=lambda index: index[1])}')\n",
    "\n",
    "plt.plot([*range(21)],[None] + MSEs)\n",
    "plt.title('Values MSE\\'s from degree')\n",
    "plt.xlabel('degree')\n",
    "plt.ylabel('MSE value')\n",
    "plt.show()\n",
    "\n",
    "plt.plot([*range(21)],[None] + r2)\n",
    "plt.title('Values R^2\\'s from degree')\n",
    "plt.xlabel('degree')\n",
    "plt.ylabel('R^2 value')\n",
    "plt.show()\n"
   ],
   "outputs": [
    {
     "name": "stdout",
     "output_type": "stream",
     "text": [
      "Najlepszy wynik MSE (3, 15.744655077557772)\n",
      "Najlepszy wynik R^2 (3, 0.6915267405239922)\n"
     ]
    },
    {
     "data": {
      "text/plain": [
       "<Figure size 640x480 with 1 Axes>"
      ],
      "image/png": "[encoded data removed]"
     },
     "metadata": {},
     "output_type": "display_data"
    },
    {
     "data": {
      "text/plain": [
       "<Figure size 640x480 with 1 Axes>"
      ],
      "image/png": "[encoded data removed]"
     },
     "metadata": {},
     "output_type": "display_data"
    }
   ],
   "execution_count": 44
  },
  {
   "metadata": {},
   "cell_type": "markdown",
   "source": "",
   "id": "1e2893e529cf06bb"
  },
  {
   "metadata": {},
   "cell_type": "markdown",
   "source": "",
   "id": "427fd9be499b01a"
  },
  {
   "cell_type": "markdown",
   "id": "cf17f28d-1a2c-4d72-b314-3bc2b0e26237",
   "metadata": {},
   "source": [
    "<font size=\"6\">Zadanie 5</font>\n",
    "\n",
    "Przygotowałem dla Pani/Pana zadanie do wykonania na regresję wielomianową, które wykorzystuje popularny zbiór danych Iris dostępny w bibliotece scikit-learn. Zbiór danych Iris zawiera pomiary dla 150 kwiatów irysów, obejmujących trzy gatunki. Celem zadania będzie użycie regresji wielomianowej do modelowania zależności między długością płatka a jego szerokością dla danego gatunku irysów."
   ]
  },
  {
   "cell_type": "raw",
   "id": "4bd5540f-080a-4107-9e46-d5df2c4bbfd2",
   "metadata": {},
   "source": []
  },
  {
   "cell_type": "code",
   "execution_count": 5,
   "id": "1a270e66-775f-457e-b931-c3aed970eda8",
   "metadata": {},
   "outputs": [
    {
     "data": {
      "image/png": "[encoded data removed]",
      "text/plain": [
       "<Figure size 640x480 with 1 Axes>"
      ]
     },
     "metadata": {},
     "output_type": "display_data"
    }
   ],
   "source": [
    "from sklearn.datasets import load_iris\n",
    "from sklearn.metrics import mean_squared_error, r2_score\n",
    "\n",
    "\n",
    "# Wczytanie danych\n",
    "iris = load_iris()\n",
    "X = iris.data[:, 2].reshape(-1, 1)  # petal length\n",
    "y = iris.data[:, 3]  # petal width\n",
    "\n",
    "# Wizualizacja danych\n",
    "plt.scatter(X, y, color='blue')\n",
    "plt.xlabel('Petal Length')\n",
    "plt.ylabel('Petal Width')\n",
    "plt.title('Petal Width vs Length')\n",
    "plt.show()\n",
    "\n",
    "# Podział na zbiór treningowy i testowy\n",
    "\n",
    "# Transformacja wielomianowa cech\n",
    "\n",
    "\n",
    "# Trenowanie modelu regresji liniowej\n",
    "\n",
    "\n",
    "# Przewidywanie na danych testowych\n",
    "\n",
    "# Obliczenie błędów MSE i R^2\n",
    "\n",
    "\n",
    "\n"
   ]
  },
  {
   "cell_type": "markdown",
   "id": "5cdc0b07-afa5-4d87-962f-c950a735dd3d",
   "metadata": {},
   "source": [
    "<font size=\"5\">Pytania</font>\n",
    "1. Jakie będzie MSE dla wielomianu 5 i 9 stopnia?\n",
    "2. Proszę wyliczyć R^2 i MSE dla wielomianu 2 stopnia\n",
    "3. jaki stopień wielomianu najlepiej modeluje zależności w danych?"
   ]
  },
  {
   "cell_type": "markdown",
   "id": "c0b94638-7aa1-47e8-b21a-995ae204e27d",
   "metadata": {},
   "source": [
    "<font size=\"5\">Pytania ogólne</font>\n",
    "1. Jak wpływają stopnie wielomianu na kształt krzywej regresji w modelu wielomianowym?\n",
    "2. Jakie są zalety stosowania regresji wielomianowej nad regresją liniową?\n",
    "3. Proszę podać swój numer indeksu."
   ]
  },
  {
   "metadata": {},
   "cell_type": "markdown",
   "source": [
    "1)Ona na kształt krzywej regresji.Im wyższy stopień, tym bardziej krzywa może być skomplikowana. Wyższe stopniepozwalają modelowi lepiej dopasować się do danych, ale istnieje ryzyko nadmiernego dopasowania. \n",
    "2)Elastyczność"
   ],
   "id": "ed2b34e8bfaf4938"
  },
  {
   "metadata": {},
   "cell_type": "markdown",
   "source": "3)21595",
   "id": "f69524744208fff3"
  }
 ],
 "metadata": {
  "kernelspec": {
   "display_name": "Python 3 (ipykernel)",
   "language": "python",
   "name": "python3"
  },
  "language_info": {
   "codemirror_mode": {
    "name": "ipython",
    "version": 3
   },
   "file_extension": ".py",
   "mimetype": "text/x-python",
   "name": "python",
   "nbconvert_exporter": "python",
   "pygments_lexer": "ipython3",
   "version": "3.11.7"
  }
 },
 "nbformat": 4,
 "nbformat_minor": 5
}
