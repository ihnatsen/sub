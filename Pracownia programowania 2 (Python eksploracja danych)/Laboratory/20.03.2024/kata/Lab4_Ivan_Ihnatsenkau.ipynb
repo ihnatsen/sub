{
 "cells": [
  {
   "cell_type": "code",
   "execution_count": 1,
   "id": "a8a6cf5d-6031-4001-be8e-c7f9f515bd30",
   "metadata": {},
   "outputs": [
    {
     "name": "stdout",
     "output_type": "stream",
     "text": [
      "Test\n"
     ]
    }
   ],
   "source": [
    "print(\"Test\")"
   ]
  },
  {
   "cell_type": "code",
   "execution_count": null,
   "id": "f0f3b40a-a2eb-40d8-8c29-10876b507250",
   "metadata": {},
   "outputs": [],
   "source": [
    "Zadanie 1: Wstępne przetwarzanie danych​\n",
    "\n",
    "1. Wczytaj zbiór danych titanic.csv do DataFrameu przy użyciu biblioteki pandas.​\n",
    "2. Wyświetl pierwsze 10 wierszy zbioru danych.​\n",
    "3. Sprawdź, czy w danych występują brakujące wartości. Jakie kolumny zawierają brakujące dane?​\n",
    "4. Wypełnij brakujące wartości w kolumnie Age medianą wieku. Dla kolumny Embarked użyj najczęściej występującej wartości.\n",
    "5. Pokaż opisz statystyczny"
   ]
  },
  {
   "cell_type": "code",
   "execution_count": null,
   "id": "83d3d1d5-d35d-4522-8d58-f033ee553b8c",
   "metadata": {},
   "outputs": [],
   "source": []
  },
  {
   "cell_type": "code",
   "execution_count": null,
   "id": "5bcfd47d-a4d6-46fd-a383-f87b4b9b8e49",
   "metadata": {},
   "outputs": [],
   "source": [
    "Zadanie 2: Eksploracja danych​\n",
    "1. Ile było pasażerów na pokładzie Titanica (w zbiorze danych)?​\n",
    "2. Ile było kobiet i ile mężczyzn na pokładzie?​\n",
    "3. Jakie było średnie przeżycie wśród kobiet a jakie wśród mężczyzn?​\n",
    "4. Stwórz nową kolumnę IsChild, która będzie miała wartość True jeśli pasażer miał mniej niż 18 lat, a w przeciwnym wypadku False. \n",
    "5. Ile było dzieci na pokładzie?"
   ]
  },
  {
   "cell_type": "code",
   "execution_count": null,
   "id": "8478f9cf-7a5c-4eb5-ab41-e611b204bf58",
   "metadata": {},
   "outputs": [],
   "source": []
  },
  {
   "cell_type": "code",
   "execution_count": null,
   "id": "29ca7241-9d69-41f1-a035-9d3c17bfdc25",
   "metadata": {},
   "outputs": [],
   "source": [
    "Zadanie 3: Wizualizacja danych​\n",
    "1. Utwórz wykres pokazujący rozkład wieku pasażerów. Użyj histogramu.\n",
    "2. Wykonaj z tych danych wykres skrzyniowy data = [20, 21, 22, 23, 23, 25, 26, 27, 28, 29, 30, 31, 32, 33, 24, 26, 64, 100]​\n",
    "3. Zbuduj wykres przedstawiający stosunek liczby przeżyć do liczby zgonów.​\n",
    "4. Stwórz wykres pokazujący zależność między klasą biletu (Pclass) a przeżywalnością.​\n",
    "5. Wykonaj wykres skrzyniowy (boxplot) prezentujący rozkład cen biletów (Fare) w zależności od klasy biletu (Pclass)"
   ]
  },
  {
   "cell_type": "code",
   "execution_count": null,
   "id": "89b15ba5-d8a1-4ed7-9659-5c0e8794a098",
   "metadata": {},
   "outputs": [],
   "source": []
  },
  {
   "cell_type": "code",
   "execution_count": null,
   "id": "1b7d7e47-9bfe-4e16-9798-331361157d56",
   "metadata": {},
   "outputs": [],
   "source": [
    "Zadanie 4: Przygotowanie danych do modelowania\n",
    "1. Przekształć kolumnę Sex na zmienne dummy (0 dla mężczyzn, 1 dla kobiet).\n",
    "2. Podziel zbiór danych na cechy (X) i etykietę (y), gdzie y to kolumna Survived.\n",
    "3. Podziel dane na zestaw treningowy i testowy (np. 70% trening, 30% test)."
   ]
  },
  {
   "cell_type": "code",
   "execution_count": null,
   "id": "0810d029-8570-4617-a91e-cb0f4ef3c640",
   "metadata": {},
   "outputs": [],
   "source": []
  },
  {
   "cell_type": "code",
   "execution_count": null,
   "id": "b56ab37c-bf5f-4e17-ba93-415af305c816",
   "metadata": {},
   "outputs": [],
   "source": [
    "Zadanie 5: Podstawowe modelowanie [NA PÓŹNIEJ]\n",
    "1. Użyj prostego modelu klasyfikacyjnego (np. regresja logistyczna) do przewidzenia, kto przeżył katastrofę Titanica.\n",
    "2. Wytrenuj model na danych treningowych.\n",
    "3. Oceń skuteczność modelu na danych testowych, używając metryki accuracy (dokładności)."
   ]
  },
  {
   "cell_type": "code",
   "execution_count": null,
   "id": "ca7524eb-f2ee-4bd1-b97b-c510ef465e33",
   "metadata": {},
   "outputs": [],
   "source": []
  },
  {
   "cell_type": "code",
   "execution_count": null,
   "id": "3023cfa3-c20f-4596-8de9-50d4d5172219",
   "metadata": {},
   "outputs": [],
   "source": [
    "Dodatkowe pytania:\n",
    "- Jak inne cechy mogą wpłynąć na przeżywalność? Czy warto byłoby utworzyć nowe cechy na podstawie istniejących danych?\n",
    "- Jak różne techniki wypełniania brakujących danych (np. imputacja, usuwanie wierszy) wpłynęłyby na wyniki modelu?"
   ]
  },
  {
   "cell_type": "code",
   "execution_count": null,
   "id": "9062dd68-0778-4102-b577-0d058569db93",
   "metadata": {},
   "outputs": [],
   "source": []
  },
  {
   "cell_type": "code",
   "execution_count": null,
   "id": "ca15da78-76f5-4904-ba42-5fd9c7ac7d9d",
   "metadata": {},
   "outputs": [],
   "source": []
  }
 ],
 "metadata": {
  "kernelspec": {
   "display_name": "Python 3 (ipykernel)",
   "language": "python",
   "name": "python3"
  },
  "language_info": {
   "codemirror_mode": {
    "name": "ipython",
    "version": 3
   },
   "file_extension": ".py",
   "mimetype": "text/x-python",
   "name": "python",
   "nbconvert_exporter": "python",
   "pygments_lexer": "ipython3",
   "version": "3.11.7"
  }
 },
 "nbformat": 4,
 "nbformat_minor": 5
}
